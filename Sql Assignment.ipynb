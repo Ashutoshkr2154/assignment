{
 "cells": [
  {
   "cell_type": "markdown",
   "id": "3afcbf15-06a5-4e1f-af9c-aca9fdd30af0",
   "metadata": {},
   "source": [
    "Q 1. what is database? Differentiate between SQL and NoSQL databases."
   ]
  },
  {
   "cell_type": "markdown",
   "id": "6d567419-969e-4010-bb5e-70d8b5dbc7e1",
   "metadata": {},
   "source": [
    "A database is a sturctured collection of data organized for efficient retrieval , \n",
    "storage , and manipulation .It acts as a central repositry where data can be stored , retrived , updated , and managed by users and applications.\n",
    "Databases are essential components of modern infornmation systems and are used in various domains such as business , finance , healthcare , education and more.\n",
    "Databases can be classified into different types based on their data models , storage mechanisms ,and query languages.The types based on their models , storage mechanisms , and query languages . The two main categories of databases are SQL (relational)databases and NOSQL (non relational  databases)."
   ]
  },
  {
   "cell_type": "markdown",
   "id": "3d065d07-3855-4e05-900a-d20639af5051",
   "metadata": {},
   "source": [
    "Database is a structured collection of data for storage , reterieval and manipulation.\n",
    "### SQL(Relational)Databses :\n",
    "- Tabular data model with fixed schemas .\n",
    "- Enforced schema .\n",
    "- standardized query with SQL.\n",
    "- scaled vertically ; complex to scale horizontally.\n",
    "- ACID properties to ensure data integrity .\n",
    "- USe SQL for structured data with complex relationships and transactions .\n",
    "\n",
    "### NOSQl (Non-Relational)Databases :\n",
    "- Flexible data models (documents , key-values , etc )\n",
    "- schema -less or flexible schema.\n",
    "- Various query languages ; less standarised .\n",
    "- Designed for horizontal scalarity .\n",
    "- May sacrifice some ACID properties for scalability and performance .\n",
    "- USe NoSQL for unstructured or semi-structured data , massive scalability and flexible and models."
   ]
  },
  {
   "cell_type": "markdown",
   "id": "e6301633-de06-4bbd-8d89-eaf63bb92bbe",
   "metadata": {},
   "source": [
    "Q 2.What is DDL ? Explain why  CREATE , DROP , ALTER , TRUNCATE are used with an example."
   ]
  },
  {
   "cell_type": "markdown",
   "id": "30cbe6c3-3843-4819-9d28-620aaef45c2c",
   "metadata": {},
   "source": [
    "DDL(Data Defination Language ):\n",
    "\n",
    "DDL or Data Defination Language , is a subset of SQL (structured Query Language ) used to define , modify , and manage the  structure of database objects such as tables , indexes , and constraints .DDL statements are used to create , drop (delete), alter (modify) , and truncate (remove all data) database objects .\n",
    "\n",
    "### CREATE :\n",
    "- purpose : used to create new database objects such as tables ,indexes , views or procedures.\n",
    "- Example :"
   ]
  },
  {
   "cell_type": "markdown",
   "id": "3aeb2e6d-05c9-45ca-968f-4e8f5a080503",
   "metadata": {},
   "source": [
    "CREATE TABLE employees {\n",
    "\n",
    "\n",
    "    id INT PRIMARY KEY,\n",
    "    \n",
    "    name VARCHAR(50),\n",
    "    \n",
    "    age INT\n",
    "    \n",
    "};"
   ]
  },
  {
   "cell_type": "markdown",
   "id": "b503ea43-bd6a-4620-8a0a-af5ee42bc00a",
   "metadata": {},
   "source": [
    "### DROP:\n",
    "- purpose : used to delete existing databases objects such as tables , indexes ,view , or procedure.\n",
    "\n",
    "- EXAMPLE\n",
    "\n",
    "DROP TABLE employees ;"
   ]
  },
  {
   "cell_type": "markdown",
   "id": "4f1db6d2-af29-4b8f-a2f2-c16e8a2526a9",
   "metadata": {},
   "source": [
    "### ALTER :\n",
    "- purpose : Used to modify the structure of existing database objects such as tables .\n",
    " - Example:\n",
    " \n",
    " ALTER TABLE employees ADD COLUMN email VARCHAR(100);"
   ]
  },
  {
   "cell_type": "markdown",
   "id": "9484fd27-ddc3-406b-a117-6ca13d390ddd",
   "metadata": {},
   "source": [
    "### TRUNCATE:\n",
    "- Purpose : Used to remove all rows from a table , effectively deleting all data while keeping the table structure intact .\n",
    "- Example :\n",
    "\n",
    "TRUNCATE TABLE employees ;\n",
    "\n",
    "here , this statement removes all data from the 'employees' table , but the table structure remains unchanged .\n"
   ]
  },
  {
   "cell_type": "markdown",
   "id": "36e4b21a-3ec6-4dd7-b24e-9ee7e0b13573",
   "metadata": {},
   "source": [
    "Q3. What is DML? Explain INSERT, UPDATE, and DELETE with an example."
   ]
  },
  {
   "cell_type": "markdown",
   "id": "3f46391b-ef5c-4b4b-9603-63656b84d47e",
   "metadata": {},
   "source": [
    "DML , or Data Manipulation Language , is a subset of SQL (Structured Query Language ) used to manipulate data stored in the databases .DML statements are used to perform operations such as inserting , updating , deleting and retrieving data from databases tables.\n",
    "\n",
    "### INSERT:\n",
    "used to insert new rows of data into table.\n",
    "- Example:\n",
    "\n",
    "INSERT INTO employees (id , name , age) VALUES (1, 'John', 30);\n",
    "\n",
    "here , the insert info statement is used to add a new record to the employees table with the vlaue or the 'id' , 'name ' and 'age' columns.\n",
    "\n",
    "### UPDATE :\n",
    "- used to modify existing data in a table .\n",
    "- Example :\n",
    "\n",
    "UPDATE employees SET age =31 WHERE id =1;\n",
    "\n",
    "### DELETE :\n",
    "- used to remove one or more rows from a table .\n",
    "- Example :\n",
    "\n",
    "DELETE FROM employees WHERE id =1;\n",
    "\n"
   ]
  },
  {
   "cell_type": "markdown",
   "id": "6abea1c8-7477-460c-b904-ce3421019dda",
   "metadata": {},
   "source": [
    "Q4. What is DQL? Explain SELECT with an example."
   ]
  },
  {
   "cell_type": "markdown",
   "id": "14d1de28-8ec9-4693-8ee5-22c9f0ccf6b1",
   "metadata": {},
   "source": [
    "DQL or Data Query language is a subset of SQL(structured query language ) used to retrieve data from database .DQL statements are primarily focused on querying data stored in tables to extract specific infornmation based on criteria .\n",
    "\n",
    "### SELECT:\n",
    "- Purpose: Used to retrieve data from one or more tables in a database.\n",
    "- Example:\n",
    "\n",
    "SELECT * FROM employees;\n"
   ]
  },
  {
   "cell_type": "markdown",
   "id": "a7dd2e6a-6666-47d5-9881-19b8b57f3af1",
   "metadata": {},
   "source": [
    "Q5.Explain primary key and Foriegn key.\n",
    "### Primary key :\n",
    "- A primary key is a column or a set of columns in a table that uniquely identifies each row or record in the table .\n",
    "- It must have a unique value for each row and cannot contain NULL values .\n",
    "- Each value of a primary key columns must be unique .\n",
    "- This uniqueness constaints ensures that no two rows in the table can have the same primary key value .\n",
    "- A primary key column cannot contain NULL values .This means every row in the table must have a value in the primary key columns.\n",
    "- Example : In a table named 'students' the 'student_id ' column can be designated as the primary key because it uniquely identifies each student record in the table.\n",
    "\n",
    "### Foriegn Key :\n",
    "\n",
    "- A foriegn key is  column or a set of columns in table that establishes a link between data in two tables.\n",
    "- It creates a relationship between the referencing table (child table ) and the referenced table (parent table ).\n",
    "- A foriegn key constraint ensures referential integrity by enforcing the existence of a corresponding value in the refrenced table .\n",
    "- It ensures that values in the foriegn key columns of the child table must match the values in the primary key columns of the parent table.\n",
    "- Foriegn key can contain NULL values , indicating that the relationship is optional .\n",
    "- if a key column allows NULL values , it means the corresponding record in the parent table may not exist.\n",
    "- Example:\n",
    "\n",
    "- In a table named orders, the customer_id column may serve as a foreign key referencing the customer_id column in the customers table. This ensures that each order is associated with a valid customer.\n",
    "\n",
    "\n",
    "\n"
   ]
  },
  {
   "cell_type": "markdown",
   "id": "331ee61a-b339-475d-9976-5a1728d8c8d5",
   "metadata": {},
   "source": [
    "Q7.Write a python code to connect MySQL to python. Explain the cursor() and execute() method."
   ]
  },
  {
   "cell_type": "code",
   "execution_count": 1,
   "id": "8c1f9a43-a0a8-4fe8-9c6c-463f2b407729",
   "metadata": {
    "tags": []
   },
   "outputs": [
    {
     "name": "stdout",
     "output_type": "stream",
     "text": [
      "Collecting mysql-connector-python\n",
      "  Downloading mysql_connector_python-8.3.0-cp310-cp310-manylinux_2_17_x86_64.whl (21.5 MB)\n",
      "\u001b[2K     \u001b[90m━━━━━━━━━━━━━━━━━━━━━━━━━━━━━━━━━━━━━━━━\u001b[0m \u001b[32m21.5/21.5 MB\u001b[0m \u001b[31m52.8 MB/s\u001b[0m eta \u001b[36m0:00:00\u001b[0m00:01\u001b[0m00:01\u001b[0m\n",
      "\u001b[?25hInstalling collected packages: mysql-connector-python\n",
      "Successfully installed mysql-connector-python-8.3.0\n",
      "Note: you may need to restart the kernel to use updated packages.\n"
     ]
    }
   ],
   "source": [
    "pip install mysql-connector-python"
   ]
  },
  {
   "cell_type": "raw",
   "id": "1eae1350-9b26-40a4-a5f7-766e4e9f2561",
   "metadata": {},
   "source": [
    "import mysql.connector \n",
    "\n",
    "connection = mysql.connector.connect(\n",
    "    host = \"your_host\",\n",
    "    user=\"your_username\",\n",
    "    password = ' your_password ',\n",
    "    database= 'your_database'\n",
    ")\n",
    "\n",
    "cursor = connection.cursor()\n",
    "\n",
    "cursor.execute(\"SELECT'*FROM your_table\")\n",
    "\n",
    "results = cursor.fetchall()\n",
    "for row in results :\n",
    "    print(row )\n",
    "    \n",
    "cursor.close()\n",
    "connection.close()"
   ]
  },
  {
   "cell_type": "markdown",
   "id": "04298e0e-c1ab-40e8-bc41-f32c6da15a4a",
   "metadata": {},
   "source": [
    "### cursor:-\n",
    "- The cursor method is used to create a cursor object.\n",
    "- A cursor is like a pointer or an iterator that allows you to traverse through the rows of a result set returned by  a query .\n",
    "- It enables you to execute sql quries and fetch results from the database.\n",
    "### execute ():-\n",
    "- The 'execute ()'method is used to execute SQL queries or statements .\n",
    "- we can pass the SQL query as a parameter to the 'execute()'method\n",
    "- we can execute various types of SQL statements such as SELECT, INSERT, UPDATE, DELETE, etc., using this method."
   ]
  },
  {
   "cell_type": "markdown",
   "id": "40fb4045-d6f4-4c7d-9689-778b65b23959",
   "metadata": {},
   "source": [
    "Q7. Give the order of execution of SQL clauses in an SQL query.\n",
    "\n",
    "- FROM Clause: Specifies the table from which data will be retieved .\n",
    "\n",
    "- WHERE Clause : Filters rows based on specified conditions.\n",
    "\n",
    "- GROUP BY Clause: Groups rows that have the same values into summary rows.\n",
    "\n",
    "- HAVING Clause: Filters groups based on specified conditions.\n",
    "\n",
    "- SELECT Clause: Specifies the columns to be included in the result set.\n",
    "\n",
    "- ORDER BY Clause: Sorts the result set based on specified columns.\n",
    "\n",
    "- LIMIT/OFFSET Clause (Optional): Limits the number of rows returned by the query (and optionally, the starting point)."
   ]
  },
  {
   "cell_type": "code",
   "execution_count": null,
   "id": "8830c4d2-2fbb-4fcf-9140-d57b35b80e2a",
   "metadata": {},
   "outputs": [],
   "source": []
  }
 ],
 "metadata": {
  "kernelspec": {
   "display_name": "Python 3 (ipykernel)",
   "language": "python",
   "name": "python3"
  },
  "language_info": {
   "codemirror_mode": {
    "name": "ipython",
    "version": 3
   },
   "file_extension": ".py",
   "mimetype": "text/x-python",
   "name": "python",
   "nbconvert_exporter": "python",
   "pygments_lexer": "ipython3",
   "version": "3.10.8"
  }
 },
 "nbformat": 4,
 "nbformat_minor": 5
}
