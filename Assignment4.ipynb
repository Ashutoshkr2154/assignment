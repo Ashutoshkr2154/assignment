{
 "cells": [
  {
   "cell_type": "code",
   "execution_count": 10,
   "id": "3e651d6e-076e-4075-99c3-aa304a40379e",
   "metadata": {},
   "outputs": [
    {
     "name": "stdout",
     "output_type": "stream",
     "text": [
      "[('Jack Kallis', 25534), ('Ricky Ponting', 27483), ('Sachin Tendulkar', 34357), ('Virat Kohli', 24936)]\n"
     ]
    }
   ],
   "source": [
    "#Question 1\n",
    "my_list=[('Sachin Tendulkar', 34357), ('Ricky Ponting', 27483), ('Jack Kallis', 25534), ('Virat Kohli', 24936)]\n",
    "\n",
    "my_list.sort(key=lambda x:x[0])\n",
    "print(my_list)"
   ]
  },
  {
   "cell_type": "code",
   "execution_count": 2,
   "id": "e6a21e2a-e992-4ba1-acc7-bc480252f22c",
   "metadata": {},
   "outputs": [
    {
     "name": "stdout",
     "output_type": "stream",
     "text": [
      "original list:  [1, 2, 3, 4, 5, 6, 7, 8, 9, 10]\n",
      "list of squares: [1, 4, 9, 16, 25, 36, 49, 64, 81, 100]\n"
     ]
    }
   ],
   "source": [
    "#Question 2\n",
    "#python program to find squares of all the numbers in the given list using lambda and mapping functions.\n",
    "my_list=[1,2,3,4,5,6,7,8,9,10]\n",
    "square =lambda x:x**2\n",
    "squares_list=list(map(square,my_list))\n",
    "print(\"original list: \",my_list)\n",
    "print(\"list of squares:\",squares_list)"
   ]
  },
  {
   "cell_type": "code",
   "execution_count": 3,
   "id": "2df1289b-d6fd-476a-909a-4fea5d616073",
   "metadata": {},
   "outputs": [
    {
     "name": "stdout",
     "output_type": "stream",
     "text": [
      "original list: [1, 2, 3, 4, 5, 6, 7, 8, 9, 10]\n",
      "tuple of strings : ('1', '2', '3', '4', '5', '6', '7', '8', '9', '10')\n"
     ]
    }
   ],
   "source": [
    "#question 3\n",
    "#Python program to convert the given list of intigers into a tuple of strings using \n",
    "#using map and lambda function .\n",
    "my_list=[1,2,3,4,5,6,7,8,9,10]\n",
    "tuple_of_strings=tuple(map (lambda x: str(x),my_list))\n",
    "print(\"original list:\",my_list)\n",
    "print(\"tuple of strings :\",tuple_of_strings)"
   ]
  },
  {
   "cell_type": "code",
   "execution_count": 5,
   "id": "ababc023-e874-40fe-821b-14fd80e654fa",
   "metadata": {},
   "outputs": [
    {
     "name": "stdout",
     "output_type": "stream",
     "text": [
      "product of the list: 15511210043330985984000000\n"
     ]
    }
   ],
   "source": [
    "#Question 4\n",
    "# wap using reduce function to complete the product of a list containg numbers from 1 to 25\n",
    "from functools import reduce \n",
    "my_list= list(range(1,26))\n",
    "product =reduce(lambda x ,y:x*y , my_list)\n",
    "print(\"product of the list:\", product)"
   ]
  },
  {
   "cell_type": "code",
   "execution_count": 6,
   "id": "5df21999-efac-43d4-8310-003989c92864",
   "metadata": {},
   "outputs": [
    {
     "name": "stdout",
     "output_type": "stream",
     "text": [
      "filtered list: [6, 60, 90, 120]\n"
     ]
    }
   ],
   "source": [
    "#question 5\n",
    "#Python program to filter the numbers in given list that are divisible by 2 & 3 using filter function.\n",
    "my_list=[2,3,6,8,27,60,90,120,55,46]\n",
    "filtered_list =list(filter (lambda x:x%2 ==0 and x%3 ==0, my_list))\n",
    "print(\"filtered list:\",filtered_list)"
   ]
  },
  {
   "cell_type": "code",
   "execution_count": 7,
   "id": "00487877-78ca-4e89-a940-fc9fc2c9d7a5",
   "metadata": {},
   "outputs": [
    {
     "name": "stdout",
     "output_type": "stream",
     "text": [
      "palindrome list: ['php', 'radar', 'level']\n"
     ]
    }
   ],
   "source": [
    "#Queston6\n",
    "# python program to find palindromes in the given list of strings ussing lambda and filter functions.\n",
    "my_list=['python','php','oba','radar','level']\n",
    "palindrome_list= list(filter(lambda x : x==x[::-1],my_list))\n",
    "print(\"palindrome list:\",palindrome_list)"
   ]
  },
  {
   "cell_type": "code",
   "execution_count": null,
   "id": "eae70260-768f-4068-9bb4-3307b5d4769e",
   "metadata": {},
   "outputs": [],
   "source": []
  }
 ],
 "metadata": {
  "kernelspec": {
   "display_name": "Python 3 (ipykernel)",
   "language": "python",
   "name": "python3"
  },
  "language_info": {
   "codemirror_mode": {
    "name": "ipython",
    "version": 3
   },
   "file_extension": ".py",
   "mimetype": "text/x-python",
   "name": "python",
   "nbconvert_exporter": "python",
   "pygments_lexer": "ipython3",
   "version": "3.10.8"
  }
 },
 "nbformat": 4,
 "nbformat_minor": 5
}
