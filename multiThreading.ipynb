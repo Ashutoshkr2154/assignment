{
 "cells": [
  {
   "cell_type": "markdown",
   "id": "cc354a70-5f77-4af2-853f-7040f4d509cf",
   "metadata": {},
   "source": [
    "Q1 . What is multithreading in python ? Name the module used to handle threads in python."
   ]
  },
  {
   "cell_type": "markdown",
   "id": "dc5ef2f7-aae4-44ea-b9b3-e12ba5155432",
   "metadata": {},
   "source": [
    "Multithreading in python refers to the capability of a program to execute multiple threads concurrently . A thread is the smallest unit of execution within a process .Multithreading allows programs to perform multiple tasks simultaneously by dividing the work into seperate threads , which can execute independently .\n",
    "\n",
    "\n",
    "Python provides a built in module called 'threading' module allows you to create and manage threads in a python program .\n",
    "It provides a high level interface for thread management , allowing you to start , pause , resume and terminate threads."
   ]
  },
  {
   "cell_type": "code",
   "execution_count": 1,
   "id": "52ace09b-d7c3-40f1-a810-e69e06844097",
   "metadata": {},
   "outputs": [
    {
     "name": "stdout",
     "output_type": "stream",
     "text": [
      "0\n",
      "Main thread continues...\n",
      "1\n",
      "2\n",
      "3\n",
      "4\n",
      "Main thread existing...\n"
     ]
    }
   ],
   "source": [
    "import threading \n",
    "import time \n",
    "\n",
    "def print_numbers():\n",
    "    for i in range(5):\n",
    "        print(i)\n",
    "        time.sleep(1)\n",
    "        \n",
    "thread = threading.Thread(target=print_numbers)\n",
    "thread.start()\n",
    "print(\"Main thread continues...\")\n",
    "thread.join()\n",
    "print(\"Main thread existing...\")"
   ]
  },
  {
   "cell_type": "markdown",
   "id": "25d6a509-cc95-44b5-a797-e8c4b6322e32",
   "metadata": {},
   "source": [
    "Q2. Why threading module used? write the use of following functions:\n",
    "   - 1.activeCount()\n",
    "   - 2.currentThread()\n",
    "   - 3.enumerate()\n",
    "    "
   ]
  },
  {
   "cell_type": "markdown",
   "id": "ad82d7c8-7b20-44c2-8ec1-6cd8b000da72",
   "metadata": {},
   "source": [
    "The 'threading ' module in python is used for managing threads in program .It provides a high level interface for creating , starting , pausing , resuming , and terminating threads .\n",
    "\n",
    "- Active count(): This function returns the number of Thread objects currently alive .It can be used to moniter the number of active threads in program .\n",
    "- Example"
   ]
  },
  {
   "cell_type": "code",
   "execution_count": 9,
   "id": "89d0e961-5531-4f3c-9a36-6f73aa1922ea",
   "metadata": {
    "collapsed": true,
    "jupyter": {
     "outputs_hidden": true
    },
    "tags": []
   },
   "outputs": [
    {
     "name": "stdout",
     "output_type": "stream",
     "text": [
      "Executing my_function\n",
      "Executing my_function\n",
      "Executing my_function\n",
      "Executing my_function\n",
      "Executing my_function\n",
      "Thread Name : MainThread\n",
      "Thread Name : IOPub\n",
      "Thread Name : Heartbeat\n",
      "Thread Name : Thread-3 (_watch_pipe_fd)\n",
      "Thread Name : Thread-4 (_watch_pipe_fd)\n",
      "Thread Name : Control\n",
      "Thread Name : IPythonHistorySavingThread\n",
      "Thread Name : Thread-2\n"
     ]
    }
   ],
   "source": [
    "import threading \n",
    "import time \n",
    "\n",
    "def my_function ():\n",
    "    print(\"Executing my_function\")\n",
    "    time.sleep(2)\n",
    "    \n",
    "threads = [threading.Thread(target = my_function)for _ in range (5)]\n",
    "\n",
    "for thread in threads:\n",
    "    thread.start()\n",
    "    \n",
    "for thread in threads :\n",
    "    thread.join ()\n",
    "    \n",
    "for thread in threading.enumerate():\n",
    "    print(\"Thread Name :\" , thread.name)"
   ]
  },
  {
   "cell_type": "markdown",
   "id": "203f45d7-1df1-49af-9fa0-c68952a00568",
   "metadata": {},
   "source": [
    "- 2.CurrentThread():\n",
    "This function returns the currently executing Thread object .It can be obtain information about the current thread , such as its name or identification number .\n",
    "- Example:"
   ]
  },
  {
   "cell_type": "code",
   "execution_count": 11,
   "id": "de78ddc7-4722-476d-9849-658857ffa6cf",
   "metadata": {
    "collapsed": true,
    "jupyter": {
     "outputs_hidden": true
    },
    "tags": []
   },
   "outputs": [
    {
     "name": "stdout",
     "output_type": "stream",
     "text": [
      "current Thread Name : Thread-27 (print_thread_info)\n"
     ]
    },
    {
     "name": "stderr",
     "output_type": "stream",
     "text": [
      "/tmp/ipykernel_84/2987257481.py:4: DeprecationWarning: currentThread() is deprecated, use current_thread() instead\n",
      "  current_thread = threading.currentThread()\n",
      "Exception in thread Thread-27 (print_thread_info):\n",
      "Traceback (most recent call last):\n",
      "  File \"/opt/conda/lib/python3.10/threading.py\", line 1016, in _bootstrap_inner\n",
      "    self.run()\n",
      "  File \"/opt/conda/lib/python3.10/threading.py\", line 953, in run\n",
      "    self._target(*self._args, **self._kwargs)\n",
      "  File \"/tmp/ipykernel_84/2987257481.py\", line 6, in print_thread_info\n",
      "NameError: name 'current_Thread' is not defined. Did you mean: 'current_thread'?\n"
     ]
    }
   ],
   "source": [
    "import threading \n",
    "\n",
    "def print_thread_info():\n",
    "    current_thread = threading.currentThread()\n",
    "    print('current Thread Name :',current_thread.name)\n",
    "    print('Current ThreadID:',current_Thread.ident)\n",
    "    \n",
    "thread = threading.Thread(target=print_thread_info)\n",
    "thread.start()"
   ]
  },
  {
   "cell_type": "markdown",
   "id": "5cceb701-7386-4eb4-9330-058b43056569",
   "metadata": {},
   "source": [
    "- 3.enumerate():\n",
    "This function returns a list of all Thread objects currently alive.It can be used to iterate over all active threads in a program .\n",
    "- Example:"
   ]
  },
  {
   "cell_type": "code",
   "execution_count": 14,
   "id": "7adfb8b9-946a-42f6-85a6-bc900577126b",
   "metadata": {
    "collapsed": true,
    "jupyter": {
     "outputs_hidden": true
    },
    "tags": []
   },
   "outputs": [
    {
     "name": "stdout",
     "output_type": "stream",
     "text": [
      "Executing my_function\n",
      "Executing my_function\n",
      "Executing my_function\n",
      "Executing my_function\n",
      "Executing my_function\n",
      "Thread Name: MainThread\n",
      "Thread Name: IOPub\n",
      "Thread Name: Heartbeat\n",
      "Thread Name: Thread-3 (_watch_pipe_fd)\n",
      "Thread Name: Thread-4 (_watch_pipe_fd)\n",
      "Thread Name: Control\n",
      "Thread Name: IPythonHistorySavingThread\n",
      "Thread Name: Thread-2\n"
     ]
    }
   ],
   "source": [
    "import threading\n",
    "\n",
    "def my_function():\n",
    "    print(\"Executing my_function\")\n",
    "\n",
    "threads = [threading.Thread(target=my_function) for _ in range(5)]\n",
    "\n",
    "for thread in threads:\n",
    "    thread.start()\n",
    "\n",
    "for thread in threads:\n",
    "    thread.join()\n",
    "\n",
    "for thread in threading.enumerate():\n",
    "    print(\"Thread Name:\", thread.name)\n"
   ]
  },
  {
   "cell_type": "markdown",
   "id": "ddbf8319-93f5-4052-94b5-ae8db24f150b",
   "metadata": {},
   "source": [
    "3. Explain the following functions:\n",
    "1.run()\n",
    "2.start()\n",
    "3.join()\n",
    "4.isAlive()\n",
    "\n",
    "- run():-\n",
    "This method represents the entry point for the threads activity .When you subclass the 'Thread' class and override the 'run()' method , the code you place in the run()method will be executed in a separate thread when you start the thread .\n",
    "\n",
    "- start():- \n",
    "This method starts the thread's activity .It initiates the execution of the run ()method in a separate thread.It's important to note that you should call start() method only once for each thread .Attempting to start a thread that has already been started will raise a 'RuntimeError'.\n",
    "\n",
    "- join():- \n",
    "This method blocks the calling thread until the thread whose 'join()' method is called completes its execution.It's \n",
    "typically used to wait for the completion of a thread before proceeding with further execution .\n",
    "\n",
    "- isAlive() : \n",
    "This method returns 'True' if the thread is alive (ie.it has been started and has not been terminated ) and 'False' otherwise .Its used to check the status of a thread , espically if you need to perform some action based on whether the thread is still running or has completed."
   ]
  },
  {
   "cell_type": "markdown",
   "id": "29422e85-132b-4345-8ea3-6cd1f3a94a38",
   "metadata": {},
   "source": [
    "Q4.write a python program to create two threads. Thread one must print the list of squares and thread\n",
    "two must print the list of cubes."
   ]
  },
  {
   "cell_type": "code",
   "execution_count": 16,
   "id": "e385f72d-0b6e-4cc8-9186-de485d594496",
   "metadata": {},
   "outputs": [
    {
     "name": "stdout",
     "output_type": "stream",
     "text": [
      "list of squares [1, 4, 9, 16, 25]\n",
      "list of cubes: [1, 8, 27, 64, 125]\n",
      "Main thread exiting\n"
     ]
    }
   ],
   "source": [
    "import threading \n",
    "\n",
    "def print_squares (numbers):\n",
    "    squares =[num ** 2 for num in numbers]\n",
    "    print(\"list of squares\",squares)\n",
    "    \n",
    "def print_cubes(numbers):\n",
    "    cubes =[num ** 3 for num in numbers]\n",
    "    print('list of cubes:', cubes)\n",
    "    \n",
    "numbers =[1,2,3,4,5]\n",
    "\n",
    "thread1 = threading.Thread(target=print_squares , args=(numbers,))\n",
    "thread1.start()\n",
    "\n",
    "thread2=threading.Thread(target=print_cubes , args=(numbers,))\n",
    "thread2.start()\n",
    "\n",
    "thread1.join()\n",
    "thread2.join()\n",
    "\n",
    "print('Main thread exiting')"
   ]
  },
  {
   "cell_type": "markdown",
   "id": "c5cbb695-f300-4959-94b5-166edd341438",
   "metadata": {},
   "source": [
    "Q5.State advantages and disadvantages of multithreading.\n",
    "\n",
    "### Advantages of Multithreading :\n",
    "\n",
    "- concurrency : Multiple tasks run concurrently,improving performance.\n",
    "- Resource Sharing :Threads share resources ,leading to efficient resource utilization.\n",
    "- Responsiveness:Enhances application responsiveness during lengthy operations.\n",
    "- Simplicity : Can simply program logic by allowing concurrent execution.\n",
    "\n",
    "### Disadvantages of Multithreading :\n",
    "\n",
    "\n",
    "- Complexity : Introduces complexity due to managing syncronization and potential issues .\n",
    "- Concurrency Issues : Risk of race conditions , deadlocks , and thread starvation.\n",
    "- performance Overhead : overhead from thread creation , context switching , and synchronization .\n",
    "- Scalability Limitations : may not scale well with large number of threads .\n",
    "- Debugging and teasting :More challenging to debug and test due to non deterministic concurrency bugs."
   ]
  },
  {
   "cell_type": "markdown",
   "id": "287f641e-d64a-49df-95f2-b8919d25cb22",
   "metadata": {},
   "source": [
    "Q6. Explain deadlocks and race conditions.\n",
    "\n",
    "- Deadlocks :\n",
    "Deadlocks occur when two or more threads are blocked indefinitely , waiting for each other to release resources , leading to system-wide resource starvation.\n",
    "\n",
    "- Race Conditions : \n",
    "Race Conditions occur when the outcome of a program depends on the sequence or timing of uncontrollable events , typically in multithreaded environments .Multiple therads acces"
   ]
  }
 ],
 "metadata": {
  "kernelspec": {
   "display_name": "Python 3 (ipykernel)",
   "language": "python",
   "name": "python3"
  },
  "language_info": {
   "codemirror_mode": {
    "name": "ipython",
    "version": 3
   },
   "file_extension": ".py",
   "mimetype": "text/x-python",
   "name": "python",
   "nbconvert_exporter": "python",
   "pygments_lexer": "ipython3",
   "version": "3.10.8"
  }
 },
 "nbformat": 4,
 "nbformat_minor": 5
}
