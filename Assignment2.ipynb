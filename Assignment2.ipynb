{
 "cells": [
  {
   "cell_type": "code",
   "execution_count": 1,
   "id": "a2a52a1b-b53a-4fe0-b206-0149a74c2432",
   "metadata": {},
   "outputs": [
    {
     "data": {
      "text/plain": [
       "'Gudio van Rossum developed python programming language \\n'"
      ]
     },
     "execution_count": 1,
     "metadata": {},
     "output_type": "execute_result"
    }
   ],
   "source": [
    "#question1\n",
    "\"\"\"Gudio van Rossum developed python programming language \n",
    "\"\"\""
   ]
  },
  {
   "cell_type": "code",
   "execution_count": 2,
   "id": "ed3b6d16-cb68-4120-abd0-702510fde95d",
   "metadata": {},
   "outputs": [
    {
     "data": {
      "text/plain": [
       "'python is an interpreted progamming language,supporting object-oriented,structured ,and functional programming'"
      ]
     },
     "execution_count": 2,
     "metadata": {},
     "output_type": "execute_result"
    }
   ],
   "source": [
    "#question2\n",
    "\"\"\"python is an interpreted progamming language,supporting object-oriented,structured ,and functional programming\"\"\""
   ]
  },
  {
   "cell_type": "code",
   "execution_count": 3,
   "id": "163fe87a-83fe-44ef-9949-dc49e770c3dd",
   "metadata": {},
   "outputs": [
    {
     "data": {
      "text/plain": [
       "'yes, python is a case sensetive programing language\\nThis means that it considers uppercase and lower case letters differently\\n'"
      ]
     },
     "execution_count": 3,
     "metadata": {},
     "output_type": "execute_result"
    }
   ],
   "source": [
    "#question 3\n",
    "\"\"\"yes, python is a case sensetive programing language\n",
    "This means that it considers uppercase and lower case letters differently\n",
    "\"\"\""
   ]
  },
  {
   "cell_type": "code",
   "execution_count": 4,
   "id": "53f25c96-1c27-4404-a4b7-a36cbde70cfe",
   "metadata": {},
   "outputs": [
    {
     "data": {
      "text/plain": [
       "' pyc files ..pyc is the file \\nextension for compiled python code files'"
      ]
     },
     "execution_count": 4,
     "metadata": {},
     "output_type": "execute_result"
    }
   ],
   "source": [
    "#question 4\n",
    "\"\"\" pyc files ..pyc is the file \n",
    "extension for compiled python code files\"\"\""
   ]
  },
  {
   "cell_type": "code",
   "execution_count": 5,
   "id": "bba2d11d-96f9-474c-9fec-7257424b9f5e",
   "metadata": {},
   "outputs": [
    {
     "data": {
      "text/plain": [
       "'python is an interpreted language,which means source code of a python program\\nis converted into bytecode that is then executed by the python virtual machine.'"
      ]
     },
     "execution_count": 5,
     "metadata": {},
     "output_type": "execute_result"
    }
   ],
   "source": [
    "#question5\n",
    "\"\"\"python is an interpreted language,which means source code of a python program\n",
    "is converted into bytecode that is then executed by the python virtual machine.\"\"\""
   ]
  },
  {
   "cell_type": "code",
   "execution_count": 6,
   "id": "272fca60-9307-4161-b074-5f207a9f5c8a",
   "metadata": {},
   "outputs": [
    {
     "data": {
      "text/plain": [
       "'  Few blocks of code used to define python programing language are\\na module ,a function body ,and a class definition.'"
      ]
     },
     "execution_count": 6,
     "metadata": {},
     "output_type": "execute_result"
    }
   ],
   "source": [
    "#Question6\n",
    "\"\"\"  Few blocks of code used to define python programing language are\n",
    "a module ,a function body ,and a class definition.\"\"\"\n"
   ]
  },
  {
   "cell_type": "code",
   "execution_count": 7,
   "id": "7725de92-29f7-489b-84ba-42fcfa7c8e7f",
   "metadata": {},
   "outputs": [
    {
     "data": {
      "text/plain": [
       "\" '#' is a character used to give single line comments in python. \\n\""
      ]
     },
     "execution_count": 7,
     "metadata": {},
     "output_type": "execute_result"
    }
   ],
   "source": [
    "#QUESTION7\n",
    "\"\"\" '#' is a character used to give single line comments in python. \n",
    "\"\"\""
   ]
  },
  {
   "cell_type": "code",
   "execution_count": 8,
   "id": "44ca6217-2261-49cf-98c9-eaa68e3f72d4",
   "metadata": {},
   "outputs": [
    {
     "data": {
      "text/plain": [
       "' The function sys.version can help us to find the version of python that we are currently\\n    working on .It also contains the infornmation on the build number and compiler used.\\n'"
      ]
     },
     "execution_count": 8,
     "metadata": {},
     "output_type": "execute_result"
    }
   ],
   "source": [
    "#Question 8 \n",
    "\"\"\" The function sys.version can help us to find the version of python that we are currently\n",
    "    working on .It also contains the infornmation on the build number and compiler used.\n",
    "\"\"\""
   ]
  },
  {
   "cell_type": "code",
   "execution_count": 9,
   "id": "3bcc55a1-52a7-45b6-aa56-eadf802533a0",
   "metadata": {},
   "outputs": [
    {
     "data": {
      "text/plain": [
       "'python supports the creation of anonymous functions (ie.functions that are \\nnot bond to a name)at  runtime ,using a construct called lambda.\\n'"
      ]
     },
     "execution_count": 9,
     "metadata": {},
     "output_type": "execute_result"
    }
   ],
   "source": [
    "#Question 9\n",
    "\"\"\"python supports the creation of anonymous functions (ie.functions that are \n",
    "not bond to a name)at  runtime ,using a construct called lambda.\n",
    "\"\"\""
   ]
  },
  {
   "cell_type": "code",
   "execution_count": 10,
   "id": "3f3bf45b-3f77-4271-befc-6d4fc280a8c7",
   "metadata": {},
   "outputs": [
    {
     "data": {
      "text/plain": [
       "' PIP stands for preferred installer program or PIP install Packeges,is a command\\n    line utility that installs ,reinstalls or uninstalls pypi packages with one simple \\n    command :pip.\\n'"
      ]
     },
     "execution_count": 10,
     "metadata": {},
     "output_type": "execute_result"
    }
   ],
   "source": [
    "#Question 10 \n",
    "\"\"\" PIP stands for preferred installer program or PIP install Packeges,is a command\n",
    "    line utility that installs ,reinstalls or uninstalls pypi packages with one simple \n",
    "    command :pip.\n",
    "\"\"\""
   ]
  },
  {
   "cell_type": "code",
   "execution_count": 11,
   "id": "02ef1602-0848-4857-a96a-f0f4e432ad6c",
   "metadata": {},
   "outputs": [
    {
     "data": {
      "text/plain": [
       "'Few built in function in python are dict(),dir(),divmod(),enumerate(),abs(),all(),\\n    any(),ascii(),bin(),bool(),chr() etc.\\n'"
      ]
     },
     "execution_count": 11,
     "metadata": {},
     "output_type": "execute_result"
    }
   ],
   "source": [
    "#question 11\n",
    "\"\"\"Few built in function in python are dict(),dir(),divmod(),enumerate(),abs(),all(),\n",
    "    any(),ascii(),bin(),bool(),chr() etc.\n",
    "\"\"\""
   ]
  },
  {
   "cell_type": "code",
   "execution_count": 12,
   "id": "bf6860dc-06e8-46ce-a10e-571240e4a8a7",
   "metadata": {},
   "outputs": [
    {
     "data": {
      "text/plain": [
       "' 79 characters is the  Maximum possible length of an identifier in python. \\n'"
      ]
     },
     "execution_count": 12,
     "metadata": {},
     "output_type": "execute_result"
    }
   ],
   "source": [
    "#question 12\n",
    "\"\"\" 79 characters is the  Maximum possible length of an identifier in python. \n",
    "\"\"\""
   ]
  },
  {
   "cell_type": "code",
   "execution_count": 1,
   "id": "75432cb8-1b4c-42d8-8aa6-91d9445dd075",
   "metadata": {},
   "outputs": [
    {
     "data": {
      "text/plain": [
       "'Benifits of using python are \\n--->Simple to use and unserstand and use.\\n--->Free and open-Source .\\n--->productivity has increased.\\n--->Extensive library.\\n---> Interpreted language.\\n'"
      ]
     },
     "execution_count": 1,
     "metadata": {},
     "output_type": "execute_result"
    }
   ],
   "source": [
    "#question13\n",
    "\"\"\"Benifits of using python are \n",
    "--->Simple to use and unserstand and use.\n",
    "--->Free and open-Source .\n",
    "--->productivity has increased.\n",
    "--->Extensive library.\n",
    "---> Interpreted language.\n",
    "\"\"\""
   ]
  },
  {
   "cell_type": "code",
   "execution_count": 1,
   "id": "de403141-4876-46d5-899a-3b3559265243",
   "metadata": {},
   "outputs": [
    {
     "data": {
      "text/plain": [
       "'Python uses the dynamic memory allocation which is managed by the heap data structure,\\n    memory heap holds the objects and other data structure that will be used in program .\\n    \\n'"
      ]
     },
     "execution_count": 1,
     "metadata": {},
     "output_type": "execute_result"
    }
   ],
   "source": [
    "#Question 14\n",
    "\"\"\"Python uses the dynamic memory allocation which is managed by the heap data structure,\n",
    "    memory heap holds the objects and other data structure that will be used in program .\n",
    "    \n",
    "\"\"\""
   ]
  },
  {
   "cell_type": "code",
   "execution_count": 2,
   "id": "94ffec8a-7219-4515-9d10-b70f5f43731a",
   "metadata": {},
   "outputs": [
    {
     "data": {
      "text/plain": [
       "'\\nThe complete path of python.exe can be added by:\\n-->Right-clicking This PC and going to Properties.\\n-->Clicking on the Advanced system settings in the menu on the left.\\n-->Clicking on the Environment Variables button o\\u200bn the bottom right.\\n-->In the System variables section, selecting the Path variable and\\nclicking on Edit. The next screen will show all the directories that \\nare currently a part of the PATH variable.\\n-->Clicking on New and entering Python’s install directory.\\n-->Python can now be used directly from the command prompt without\\nhaving to write its location. Try executing the command python \\nversion; it will output the version of Python installed on your system.\\n'"
      ]
     },
     "execution_count": 2,
     "metadata": {},
     "output_type": "execute_result"
    }
   ],
   "source": [
    "#Question 15\n",
    "\"\"\"\n",
    "The complete path of python.exe can be added by:\n",
    "-->Right-clicking This PC and going to Properties.\n",
    "-->Clicking on the Advanced system settings in the menu on the left.\n",
    "-->Clicking on the Environment Variables button o​n the bottom right.\n",
    "-->In the System variables section, selecting the Path variable and\n",
    "clicking on Edit. The next screen will show all the directories that \n",
    "are currently a part of the PATH variable.\n",
    "-->Clicking on New and entering Python’s install directory.\n",
    "-->Python can now be used directly from the command prompt without\n",
    "having to write its location. Try executing the command python \n",
    "version; it will output the version of Python installed on your system.\n",
    "\"\"\""
   ]
  },
  {
   "cell_type": "code",
   "execution_count": null,
   "id": "041e6b47-8b38-460f-aff8-bdda12356c16",
   "metadata": {},
   "outputs": [],
   "source": [
    "#question 16\n",
    "\"\"\" yes ,\n",
    "\"\"\""
   ]
  }
 ],
 "metadata": {
  "kernelspec": {
   "display_name": "Python 3 (ipykernel)",
   "language": "python",
   "name": "python3"
  },
  "language_info": {
   "codemirror_mode": {
    "name": "ipython",
    "version": 3
   },
   "file_extension": ".py",
   "mimetype": "text/x-python",
   "name": "python",
   "nbconvert_exporter": "python",
   "pygments_lexer": "ipython3",
   "version": "3.10.8"
  }
 },
 "nbformat": 4,
 "nbformat_minor": 5
}
