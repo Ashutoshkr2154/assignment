{
 "cells": [
  {
   "cell_type": "markdown",
   "id": "b0b2361b-2033-4b7c-86e7-71a424f89cf4",
   "metadata": {},
   "source": [
    "Which function is used to open a file? 1.What are the different modes of opening a file? Explain each mode\n",
    "of file opening."
   ]
  },
  {
   "cell_type": "markdown",
   "id": "66ab8a1f-9617-4368-a7d8-cd6612df35eb",
   "metadata": {},
   "source": [
    "'open'function is used to open a file in python . The 'open 'function is used to open a file and returns a file object which provides methods and attributes to perform various operations on the file .\n",
    "\n",
    "When we use the 'open' function , we can specify the mode in which we want to op\n",
    "en file .The parameter is an optional argument  and defines the purpose for which you are opening the file .Here are the different modes of opening file in python.\n",
    "\n",
    "### Read mode ('r'):\n",
    "- This mode is used when you want only to read the contents of the file .\n",
    "- If the file doesn't exist ,it will raise 'FileNotFoundError'\n",
    "- This is the default mode when opening a file .\n",
    "\n",
    "### Write mode('w'):\n",
    "- This mode is used when you want to write  a file \n",
    "-  If the file exists , it will truncate the file to zero length (erasing all existing content)\n",
    "- If the file doesn't exists ,it will create a new file .\n",
    "\n",
    "### Append Mode('a'):\n",
    "- This mode is used to append data to the end of the file .\n",
    "- If the file doesnt exists , it will create a new file .\n",
    "- The pointer is placed at the end of the file for writing , so the existing contents are not overwritten .\n",
    "\n",
    "### Binary mode('b'):\n",
    "- This mode is used when working with binary files (eg. images , executable files)\n",
    "- It can be used in conjuction with any of the above modes (eg 'rb ', 'wb ', 'ab')\n",
    "\n",
    "### Read and Write mode('r+'):\n",
    "- This mode is used when you want to read from and write to the file .\n",
    "- The pointer is placed at the beginning of the file .\n",
    "- If the file doesnt exists , it will raise a FileNotFoundError.\n",
    "\n",
    "### Write and Read Mode ('w+'):\n",
    "- This mode is used when you want to read file and write to the file.\n",
    "- If the file exists ,it will truncate the file to zero length (erase all the existing content ).\n",
    "- If the file doesnt exist, it will create a new file.\n",
    "\n",
    "### Append and Read mode ('a+'):\n",
    "- This mode is used when you want to reas from and append data to the file .\n",
    "- If the file doesnt exists , it will create a new file .\n",
    "- The pointer is placed at the end of the file for writing ."
   ]
  },
  {
   "cell_type": "markdown",
   "id": "84cc5c39-6b0e-4d56-b601-a067c99c7849",
   "metadata": {},
   "source": [
    "Q2 .Why close() function is used? Why is it important to close a file?"
   ]
  },
  {
   "cell_type": "markdown",
   "id": "800b283a-bca0-40fa-9f75-36ba8de9de77",
   "metadata": {},
   "source": [
    "The 'close() 'function is used to release system resources associated with an opened file. It's important to close a file to prevent resource leaks , ensures data integrity , release file locks and maintain code probability .Always closing files after you are done with them is a best practice in programming ."
   ]
  },
  {
   "cell_type": "markdown",
   "id": "aca2e9f8-b1aa-4294-b465-b7d53257cb85",
   "metadata": {},
   "source": [
    "Q3. Write a python program to create a text file. Write ‘I want to become a Data Scientist’ in that file. Then\n",
    "close the file. Open this file and read the content of the file."
   ]
  },
  {
   "cell_type": "code",
   "execution_count": 2,
   "id": "8858c318-3bb4-4f5d-92f2-ec6fc889d836",
   "metadata": {},
   "outputs": [
    {
     "name": "stdout",
     "output_type": "stream",
     "text": [
      "content of the file :\n",
      "I want to become a Data Scientist\n"
     ]
    }
   ],
   "source": [
    "with open ('data_scientist.txt','w') as file :\n",
    "           file.write ('I want to become a Data Scientist')\n",
    "           \n",
    "with open ('data_scientist.txt','r') as file :\n",
    "           content = file.read()\n",
    "           \n",
    "print('content of the file :')\n",
    "print(content)"
   ]
  },
  {
   "cell_type": "markdown",
   "id": "f3f8d285-c57a-48fe-91eb-1b2f226d9f54",
   "metadata": {},
   "source": [
    "Q3 Explain the following with python code: read(), readline() and readlines()."
   ]
  },
  {
   "cell_type": "markdown",
   "id": "3bc30e8a-a143-4fba-a89f-5abfe342a380",
   "metadata": {},
   "source": [
    "### read():\n",
    "- The read() method reads the entire content of the file as a single string.\n",
    "- If you donot specify the numbers of bytes to read , it will read the entire file .\n",
    "- If you do specify the number of bytes , it will read up to that number of bytes ."
   ]
  },
  {
   "cell_type": "code",
   "execution_count": null,
   "id": "9d8ac505-6950-422f-ada3-91db28ba7075",
   "metadata": {},
   "outputs": [],
   "source": [
    "with open ('example.txt', 'r') as file :\n",
    "    content = file.read()\n",
    "    print(content)"
   ]
  },
  {
   "cell_type": "markdown",
   "id": "50b8aa1e-680b-4a2a-bbe4-86fe31b0e858",
   "metadata": {},
   "source": [
    "### readline(): \n",
    "- The readline() method reads a single line from the file .\n",
    "- Each time we call 'readline' , it reads the next line from the file .\n",
    "- When the end of the file is reached , it returns an empty string ."
   ]
  },
  {
   "cell_type": "code",
   "execution_count": null,
   "id": "1251760e-2abd-4636-ba18-a846c18b8b07",
   "metadata": {},
   "outputs": [],
   "source": [
    "with open ('example.txt','r') as file :\n",
    "    line1 = file.readline()\n",
    "    print(\"First line:\", line1 )\n",
    "    \n",
    "    line2 = file.readline()\n",
    "    print(\"Second line :\" , line2)\n",
    "    "
   ]
  },
  {
   "cell_type": "markdown",
   "id": "ccd2ed42-5875-4386-93ab-308d5fd98ad1",
   "metadata": {},
   "source": [
    "### Readlines():\n",
    "- The readlines () method reads all lines from the file and returns them as a list of strings .\n",
    "- Each String in the list represents a single line from the file ."
   ]
  },
  {
   "cell_type": "code",
   "execution_count": null,
   "id": "b184126f-eb45-48cd-b065-6d8d51539b93",
   "metadata": {},
   "outputs": [],
   "source": [
    "with open ('example.txt','r') as file:\n",
    "    lines = file.readlines()\n",
    "    print(\"All lines :\", lines )\n",
    "    \n",
    "    for line in lines:\n",
    "        print(line)"
   ]
  },
  {
   "cell_type": "markdown",
   "id": "ebb512d0-99cf-43b0-b06c-4ca0f0fe6551",
   "metadata": {},
   "source": [
    "Q5 .Explain why with statement is used with open(). What is the advantage of using with statement and\n",
    "open() together?\n",
    "\n",
    "\n",
    "- The 'with' statement in python is used with 'open'for automatic resources management , ensuring that files are properly closed after use .This combinaation simplifies syntax , improves code readability , and reduces the risk of resource leaks or data corruption."
   ]
  },
  {
   "cell_type": "markdown",
   "id": "ff1c5124-c614-409a-8a52-d5f079b20796",
   "metadata": {},
   "source": [
    "Q6.Explain the write() and writelines() functions. Give a suitable example."
   ]
  },
  {
   "cell_type": "markdown",
   "id": "77fb5358-8352-4adb-8715-0ec1ab8869b7",
   "metadata": {},
   "source": [
    "### Write ()Function :\n",
    "- The 'write()' function is used to write a string into a file .\n",
    "- It Can be used to write a single string or multiple strings sequentially into a file.\n",
    "- If the file is opend in the text mode ('t'), you can only write  strings using 'write()'"
   ]
  },
  {
   "cell_type": "code",
   "execution_count": null,
   "id": "f9d364ba-340d-4171-b14f-fb8b8b7d6bcd",
   "metadata": {},
   "outputs": [],
   "source": [
    "write open ('example.txt','w') as file:\n",
    "    file.write('Hello world')\n",
    "    file.write('This is a test file ')"
   ]
  },
  {
   "cell_type": "markdown",
   "id": "26926374-739f-4e24-ad60-715dbfeffd03",
   "metadata": {},
   "source": [
    "### Writelines() function :\n",
    "- The 'writelines()' function is used to write a list of strings into a file .\n",
    "- It takes an iterable (like list ) of string and writes each string into a file .\n",
    "- Each stirng is written as a seprate line in the file , so so we need to include new characters('\\n) if we want to seprate lines ."
   ]
  },
  {
   "cell_type": "code",
   "execution_count": null,
   "id": "0bb85ee9-3f37-4099-98b8-56a3b297dea3",
   "metadata": {},
   "outputs": [],
   "source": [
    "with open ('e')"
   ]
  }
 ],
 "metadata": {
  "kernelspec": {
   "display_name": "Python 3 (ipykernel)",
   "language": "python",
   "name": "python3"
  },
  "language_info": {
   "codemirror_mode": {
    "name": "ipython",
    "version": 3
   },
   "file_extension": ".py",
   "mimetype": "text/x-python",
   "name": "python",
   "nbconvert_exporter": "python",
   "pygments_lexer": "ipython3",
   "version": "3.10.8"
  }
 },
 "nbformat": 4,
 "nbformat_minor": 5
}
