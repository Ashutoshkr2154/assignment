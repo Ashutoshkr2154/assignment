{
 "cells": [
  {
   "cell_type": "code",
   "execution_count": 4,
   "id": "e803ef41-b11d-446b-8132-adafa47018ad",
   "metadata": {},
   "outputs": [],
   "source": [
    "#Question1\n",
    "\"\"\" 'def ' is the keyword used to create a function\n",
    "\"\"\"\n",
    "def odd_numbers():\n",
    "    odd_nums=[]\n",
    "    for i in range (1,26):\n",
    "        if i %2 !=0:\n",
    "            odd_nums.append(i)\n",
    "    return odd_nums\n",
    "    "
   ]
  },
  {
   "cell_type": "code",
   "execution_count": 6,
   "id": "8acdffd7-b00d-485b-a1e3-6af05fd39aa2",
   "metadata": {},
   "outputs": [
    {
     "name": "stdout",
     "output_type": "stream",
     "text": [
      "helloworld!\n"
     ]
    }
   ],
   "source": [
    "# Question 2\n",
    "\"\"\" '*args ' and'**kwargs 'are used to pass a variable number  of  arguments to a function. \n",
    "\n",
    "*args  is used to pass a variable number of non keyworded argumrnts to a function . These \n",
    "arguments are passed as a tuple and can be accessed in the function by iterating over the tuple.\n",
    "\n",
    "**kwargs is used to pass a variable number of keyword arguments to a function .\n",
    "These arguments are passed as a dictionary and can be accessed as a dictionary by \n",
    "using the key words of the dictionary .\n",
    "\"\"\"\n",
    "#eg of *args \n",
    "def concatenate(*args):\n",
    "    result=''\n",
    "    for arg in args :\n",
    "        result+=arg \n",
    "    return result\n",
    "print(concatenate (\"hello\",\"world\",\"!\"))"
   ]
  },
  {
   "cell_type": "code",
   "execution_count": 8,
   "id": "0bc971b5-1d54-4b6e-91d1-cfc940b5eebe",
   "metadata": {},
   "outputs": [
    {
     "name": "stdout",
     "output_type": "stream",
     "text": [
      "name:Ashutosh\n",
      "age:19\n",
      "city:chaibasa\n"
     ]
    }
   ],
   "source": [
    "# eg of kwargs \n",
    "def print_details (**kwargs ):\n",
    "    for key ,value in kwargs.items():\n",
    "        print(f\"{key}:{value}\")\n",
    "print_details(name=\"Ashutosh\",age=19, city=\"chaibasa\")"
   ]
  },
  {
   "cell_type": "code",
   "execution_count": 2,
   "id": "ffb068bc-9093-44e3-869e-43fad1ef82ad",
   "metadata": {},
   "outputs": [
    {
     "name": "stdout",
     "output_type": "stream",
     "text": [
      "2\n",
      "4\n",
      "6\n",
      "8\n",
      "10\n"
     ]
    }
   ],
   "source": [
    "#Question 3\n",
    "\"\"\"Iterator in python is an object that allows iteration over a collection \n",
    " of elements ,one at a time , without the need to know the underlying structure of \n",
    " the collection. The iterator object provides the __iter__() method to initilize the \n",
    " iterator and the __next__() method to iterate through the elements of the collection .\n",
    "\"\"\"\n",
    "my_list=[2,4,6,8,10,12,14,16,18,20]\n",
    "my_iter =iter (my_list)\n",
    "for i in range(5):\n",
    "    print(next(my_iter))"
   ]
  },
  {
   "cell_type": "code",
   "execution_count": 6,
   "id": "f347d7b8-e729-4bb6-b3d7-74aa2b29326d",
   "metadata": {},
   "outputs": [
    {
     "name": "stdout",
     "output_type": "stream",
     "text": [
      "0\n",
      "1\n",
      "1\n",
      "2\n",
      "3\n",
      "5\n",
      "8\n",
      "13\n",
      "21\n",
      "34\n"
     ]
    }
   ],
   "source": [
    "# Question4\n",
    "\"\"\"A generator function is a special type of function that can be used to generate a \n",
    "sequence of values ,one at a time ,rather than returning them all at once.\n",
    "\n",
    "The 'Yield 'keyword is used to define a generator function .When a generator function is \n",
    "called ,it returns a generator object that can be iterated over to generate values .\n",
    "each time the value is generated the  function is paused ,and the state of the function is saved\n",
    "so that it can resume where it left off when the next value is requested .\n",
    "\n",
    "\"\"\"\n",
    "#eg\n",
    "def fibonacci(n):\n",
    "    a,b=0,1\n",
    "    for i in range(n):\n",
    "        yield a\n",
    "        a,b=b,a+b\n",
    "for num in fibonacci(10):\n",
    "    print(num)"
   ]
  },
  {
   "cell_type": "code",
   "execution_count": 8,
   "id": "5b55fb18-64ab-4c27-af00-dc1d4815cefb",
   "metadata": {},
   "outputs": [],
   "source": [
    "#Question 5\n",
    "\n",
    "def prime_numbers():\n",
    "    yield 2\n",
    "    primes=[2]\n",
    "    i=3\n",
    "    while i< 1000:\n",
    "        is_prime =True\n",
    "        for p in primes:\n",
    "            if i%p ==0:\n",
    "                is_prime =False\n",
    "                break\n",
    "        if is_prime:\n",
    "            primes.append(i)\n",
    "            yield i\n",
    "        i+= 2"
   ]
  },
  {
   "cell_type": "code",
   "execution_count": 9,
   "id": "2fa139b8-39a2-4d8d-a58d-bd36dbe2954f",
   "metadata": {},
   "outputs": [
    {
     "name": "stdout",
     "output_type": "stream",
     "text": [
      "2\n",
      "3\n",
      "5\n",
      "7\n",
      "11\n",
      "13\n",
      "17\n",
      "19\n",
      "23\n",
      "29\n",
      "31\n",
      "37\n",
      "41\n",
      "43\n",
      "47\n",
      "53\n",
      "59\n",
      "61\n",
      "67\n",
      "71\n"
     ]
    }
   ],
   "source": [
    "prime_gen =prime_numbers()\n",
    "for i in range (20):\n",
    "    print(next(prime_gen))"
   ]
  },
  {
   "cell_type": "code",
   "execution_count": 13,
   "id": "0359bed9-c1c5-45f3-a7ad-3e94c39f2eca",
   "metadata": {},
   "outputs": [
    {
     "name": "stdout",
     "output_type": "stream",
     "text": [
      "0\n",
      "1\n",
      "1\n",
      "2\n",
      "3\n",
      "5\n",
      "8\n",
      "13\n",
      "21\n",
      "34\n"
     ]
    }
   ],
   "source": [
    "#6 Question \n",
    "#fibonacci series using while loop.\n",
    "a,b=0,1\n",
    "\n",
    "count=0\n",
    "while count<10:\n",
    "    print(a,end =\"\\n\")\n",
    "    a,b=b,a+b\n",
    "    count+=1"
   ]
  },
  {
   "cell_type": "code",
   "execution_count": 1,
   "id": "2c21f2a6-5bb6-42c4-ae22-74ae2eac25a0",
   "metadata": {},
   "outputs": [
    {
     "name": "stdout",
     "output_type": "stream",
     "text": [
      "['p', 'w', 'k', 'i', 'l', 'l', 's']\n"
     ]
    }
   ],
   "source": [
    "# Question 7\n",
    "s='pwkills'\n",
    "output=[c for c in s]\n",
    "print(output)"
   ]
  },
  {
   "cell_type": "code",
   "execution_count": 1,
   "id": "b87b59ab-d943-4f4b-b178-649dcbac3ec3",
   "metadata": {},
   "outputs": [
    {
     "name": "stdin",
     "output_type": "stream",
     "text": [
      "enter the number: 121\n"
     ]
    },
    {
     "name": "stdout",
     "output_type": "stream",
     "text": [
      "121 is a palindrome number\n"
     ]
    }
   ],
   "source": [
    "#Question8\n",
    "# check whether a given number is a palindrome or not using while loop .\n",
    "num =int(input(\"enter the number:\"))\n",
    "original_num=num \n",
    "reverse_num=0\n",
    "while num>0:\n",
    "    remainder =num%10\n",
    "    reverse_num=(reverse_num*10)+remainder\n",
    "    num =num //10\n",
    "if original_num ==reverse_num:\n",
    "    print(original_num,\"is a palindrome number\")\n",
    "else:\n",
    "    print(original_num,\"is not a palindrome number\")"
   ]
  },
  {
   "cell_type": "code",
   "execution_count": null,
   "id": "e0503c2f-89b4-4c2d-a6cd-9565d280b6ea",
   "metadata": {},
   "outputs": [],
   "source": [
    "#Question9\n",
    "odd_nums=[num for num in range(1,101)if num%2!=0]"
   ]
  }
 ],
 "metadata": {
  "kernelspec": {
   "display_name": "Python 3 (ipykernel)",
   "language": "python",
   "name": "python3"
  },
  "language_info": {
   "codemirror_mode": {
    "name": "ipython",
    "version": 3
   },
   "file_extension": ".py",
   "mimetype": "text/x-python",
   "name": "python",
   "nbconvert_exporter": "python",
   "pygments_lexer": "ipython3",
   "version": "3.10.8"
  }
 },
 "nbformat": 4,
 "nbformat_minor": 5
}
