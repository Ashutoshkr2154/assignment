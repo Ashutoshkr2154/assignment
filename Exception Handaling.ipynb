{
 "cells": [
  {
   "cell_type": "markdown",
   "id": "5c7b9097-3ffa-4d04-8ebe-4eb41feb8402",
   "metadata": {},
   "source": [
    "What is an Exception in pthon? Write the differen,between Ex,eptions\n",
    "and syntax errors."
   ]
  },
  {
   "cell_type": "markdown",
   "id": "2097d85b-92fd-45f5-8a54-821f75ffd728",
   "metadata": {},
   "source": [
    "In python an exception is an event that occurs during the exception of a program that disrupts the normal flow of instructions .When an error occurs during the excecution of a program .Python raises an exception .Exception can occur due to various reasons such as \n",
    "incorrect user input ,invalid operations , file i/o errors , or unexpected condition in program .\n",
    "\n",
    "Exception in python are the objects that represent errors or exceptional condition s.Each exception oject contains infornmation about the type of error that occured and the context in which it occured .when an exception is raised , python looks for a handler to catch and handle the exception .if no handler is found , the program terminates and display a traceback , which includes infornmation about the exception and the sequence of the functions call that led to it .\n",
    "\n",
    "Syntax error on the other hand , are errors that occur when the syntax of aprogram is incorrect .These errors are detected by the python interpreter during the parsing phase , before the program is executed .Sytax errors typically occur due to the mistakes such as misspelled , syntax errors prevent the program from running at all , and they must be fixed before the program can be executed .\n",
    "\n",
    "Hence ,\n",
    "\n",
    "Exceptions occur during the execution of a program whwn an error or exceptional condition is encountered , while syntax error occurs during the parsing phase when syntax of the program is incorrect.\n"
   ]
  },
  {
   "cell_type": "markdown",
   "id": "ae7c32bf-4a5d-4bb5-a706-6d4e1c1815b5",
   "metadata": {},
   "source": [
    "2 .What happens when an exception is not handled ? Explain with an example."
   ]
  },
  {
   "cell_type": "markdown",
   "id": "33173f5f-180c-4ed8-9214-9c642146dce6",
   "metadata": {},
   "source": [
    "when an exception is not handled in a program , it results in what is known as an unhandled exception . When this occurs , the program typically terminates abruptly , and depending on the environment and context , it may display ann error message or simply crash without any clear indication of what went wrong .\n",
    "\n",
    "Example:\n"
   ]
  },
  {
   "cell_type": "code",
   "execution_count": 1,
   "id": "8f715b55-b83f-47bb-9c0f-950e3ce81fb5",
   "metadata": {},
   "outputs": [
    {
     "ename": "ZeroDivisionError",
     "evalue": "division by zero",
     "output_type": "error",
     "traceback": [
      "\u001b[0;31m---------------------------------------------------------------------------\u001b[0m",
      "\u001b[0;31mZeroDivisionError\u001b[0m                         Traceback (most recent call last)",
      "Cell \u001b[0;32mIn[1], line 6\u001b[0m\n\u001b[1;32m      3\u001b[0m numerator \u001b[38;5;241m=\u001b[39m\u001b[38;5;241m10\u001b[39m \n\u001b[1;32m      4\u001b[0m denominator \u001b[38;5;241m=\u001b[39m\u001b[38;5;241m0\u001b[39m \n\u001b[0;32m----> 6\u001b[0m result \u001b[38;5;241m=\u001b[39m \u001b[43mdivide\u001b[49m\u001b[43m \u001b[49m\u001b[43m(\u001b[49m\u001b[43mnumerator\u001b[49m\u001b[43m \u001b[49m\u001b[43m,\u001b[49m\u001b[43m \u001b[49m\u001b[43mdenominator\u001b[49m\u001b[43m \u001b[49m\u001b[43m)\u001b[49m\n\u001b[1;32m      8\u001b[0m \u001b[38;5;28mprint\u001b[39m(\u001b[38;5;124m\"\u001b[39m\u001b[38;5;124mResult of division :\u001b[39m\u001b[38;5;124m\"\u001b[39m, result )\n",
      "Cell \u001b[0;32mIn[1], line 2\u001b[0m, in \u001b[0;36mdivide\u001b[0;34m(a, b)\u001b[0m\n\u001b[1;32m      1\u001b[0m \u001b[38;5;28;01mdef\u001b[39;00m \u001b[38;5;21mdivide\u001b[39m (a , b ):\n\u001b[0;32m----> 2\u001b[0m     \u001b[38;5;28;01mreturn\u001b[39;00m \u001b[43ma\u001b[49m\u001b[43m \u001b[49m\u001b[38;5;241;43m/\u001b[39;49m\u001b[43m \u001b[49m\u001b[43mb\u001b[49m\n",
      "\u001b[0;31mZeroDivisionError\u001b[0m: division by zero"
     ]
    }
   ],
   "source": [
    "def divide (a , b ):\n",
    "    return a / b \n",
    "numerator =10 \n",
    "denominator =0 \n",
    "\n",
    "result = divide (numerator , denominator )\n",
    "\n",
    "print(\"Result of division :\", result )\n"
   ]
  },
  {
   "cell_type": "markdown",
   "id": "e9c6a22b-1130-44de-994f-f6d0226a2de1",
   "metadata": {},
   "source": [
    "Here , the above example shows division by zero error"
   ]
  },
  {
   "cell_type": "markdown",
   "id": "48925011-f04e-46fd-8da1-eb975d434aea",
   "metadata": {},
   "source": [
    "3. Which python statements are used to catch and handle exception ? Explain with an example."
   ]
  },
  {
   "cell_type": "markdown",
   "id": "05847b90-8ca7-436b-8e3a-bcb990ce426f",
   "metadata": {},
   "source": [
    "In python , the 'try-except 'statement are used to catch and handle exceptions .The try block contains the code where an exception might occur and the except block is used to handle the exception if it occurs ."
   ]
  },
  {
   "cell_type": "code",
   "execution_count": 2,
   "id": "b0f7c484-0283-4607-a00a-a85cd3acb803",
   "metadata": {},
   "outputs": [
    {
     "name": "stdout",
     "output_type": "stream",
     "text": [
      "Error : Division by zero !\n"
     ]
    }
   ],
   "source": [
    "try :\n",
    "    result =10 / 0\n",
    "except ZeroDivisionError:\n",
    "    print(\"Error : Division by zero !\")\n",
    "    "
   ]
  },
  {
   "cell_type": "code",
   "execution_count": 3,
   "id": "1c11a3bc-c731-46e5-b5b8-7cef40ae2ca1",
   "metadata": {},
   "outputs": [
    {
     "name": "stdout",
     "output_type": "stream",
     "text": [
      "Error :Division by zero!\n",
      "This will always execute!\n",
      "Division operation failed .\n"
     ]
    }
   ],
   "source": [
    "def divide (a, b ):\n",
    "    try:\n",
    "        result =a /b\n",
    "    except ZeroDivisionError :\n",
    "        print(\"Error :Division by zero!\")\n",
    "        return None \n",
    "    except TypeError:\n",
    "        print(\"Error : Invalid types for division!\")\n",
    "        return None \n",
    "    else :\n",
    "        print(\"Division successful!\")\n",
    "        return result \n",
    "    finally:\n",
    "        print(\"This will always execute!\")\n",
    "numerator =10 \n",
    "denominator =0\n",
    "result =divide (numerator , denominator )\n",
    "if result is not None:\n",
    "    print(\"Result of division :\", result )\n",
    "else :\n",
    "    print(\"Division operation failed .\")\n"
   ]
  },
  {
   "cell_type": "markdown",
   "id": "efca9c89-b356-4661-a12d-0d5b6bd11e2d",
   "metadata": {},
   "source": [
    "3 .Explain with example :\n",
    "    a) try and else \n",
    "    b) finally \n",
    "    c) raise"
   ]
  },
  {
   "cell_type": "markdown",
   "id": "7e933ea7-2ad7-4a14-894b-13242dcb99bb",
   "metadata": {},
   "source": [
    "a) Try and else:-\n",
    "\n",
    "The else block is executed if no exceptions occur in the 'try' block .It's often used to contain code that should only run when no exception were raised.\n",
    "\n",
    "\n",
    "Example :\n"
   ]
  },
  {
   "cell_type": "code",
   "execution_count": 4,
   "id": "e9af4c21-4a00-4207-95ef-ba10c5b4a615",
   "metadata": {},
   "outputs": [
    {
     "name": "stdout",
     "output_type": "stream",
     "text": [
      "Division successful!\n",
      "Result of division: 5.0\n"
     ]
    }
   ],
   "source": [
    "def divide (a, b):\n",
    "    try :\n",
    "        result = a/b\n",
    "    except ZeroDivisionError:\n",
    "        print(\"Error : Division by zero!\")\n",
    "        return None\n",
    "    else:\n",
    "        print(\"Division successful!\")\n",
    "        return result \n",
    "    \n",
    "numerator =10 \n",
    "denominator = 2\n",
    "\n",
    "result = divide (numerator, denominator)\n",
    "\n",
    "if result is not None :\n",
    "    print(\"Result of division:\", result )\n",
    "else :\n",
    "    print(\"Division operation failed .\")"
   ]
  },
  {
   "cell_type": "markdown",
   "id": "80f6f670-a126-4ce2-8f09-aaab42a7d985",
   "metadata": {},
   "source": [
    "b) finally :-\n",
    "\n",
    "The finally block is always executed regardless of whether an exception occured in the 'try ' block .Its commonly used for cleanup actions , such as closing files or realising resources , that must be performed regarless of whether an exception occurred.\n",
    "\n",
    "Example:"
   ]
  },
  {
   "cell_type": "code",
   "execution_count": 5,
   "id": "6af52d0c-6000-4ec5-bfaf-2a7a282fc407",
   "metadata": {},
   "outputs": [
    {
     "name": "stdout",
     "output_type": "stream",
     "text": [
      "Error : file not found !\n"
     ]
    }
   ],
   "source": [
    "try :\n",
    "    file =open(\"example.txt\", \"r\")\n",
    "    content = file.read()\n",
    "    print(\"File content:\", content)\n",
    "except FileNotFoundError:\n",
    "    print(\"Error : file not found !\")\n",
    "finally :\n",
    "    if 'file'  in locals ():\n",
    "        file.close()\n",
    "        print(\"File closed.\")\n",
    "        "
   ]
  },
  {
   "cell_type": "markdown",
   "id": "42b8f1f8-2c99-4cc4-a2c6-d6bd34ba2b69",
   "metadata": {},
   "source": [
    "c) Raise:-\n",
    "The  raise statement is used to munually raise exceptions in python .We can raise built in exceptions or create our own custom exceptions .\n",
    "\n",
    "Example:-"
   ]
  },
  {
   "cell_type": "code",
   "execution_count": 7,
   "id": "73e05c7c-a889-472b-bb83-55d5aa60a2c4",
   "metadata": {},
   "outputs": [
    {
     "name": "stdout",
     "output_type": "stream",
     "text": [
      "Error : Name must be a string\n"
     ]
    }
   ],
   "source": [
    "def greet (name):\n",
    "    if not isinstance (name , str ):\n",
    "        raise TypeError('Name must be a string')\n",
    "    print(\"Hello\", name )\n",
    "\n",
    "try :\n",
    "    greet (42)\n",
    "except TypeError as e :\n",
    "    print(\"Error :\", e)\n",
    "    "
   ]
  },
  {
   "cell_type": "markdown",
   "id": "a08387df-dc70-4638-b439-f8f8b8582fe0",
   "metadata": {},
   "source": [
    "4.What are custom Exception in python? Why do we need custom Exception ? Explain with an example ."
   ]
  },
  {
   "cell_type": "markdown",
   "id": "1dbd32f3-c5f6-48aa-90e2-429e28374557",
   "metadata": {},
   "source": [
    "custom exceptions in python are user defined exceptions that extended the built in Exception class or any of its subclasses .They allow developers to create specialized exception type tailored to their specific application or library needs .\n",
    "\n",
    "We need custom exception for clarity and readability , error handling modularity .\n",
    "Example :-\n"
   ]
  },
  {
   "cell_type": "code",
   "execution_count": 10,
   "id": "761ac9a7-1134-4986-822b-08511e7d1cd4",
   "metadata": {},
   "outputs": [
    {
     "name": "stdout",
     "output_type": "stream",
     "text": [
      "Error: Invalid data type . Integer excepted\n"
     ]
    }
   ],
   "source": [
    "class CustomError(Exception):\n",
    "    \"\"\"Custom exception for specific error scenario.\"\"\"\n",
    "    \n",
    "    def __init__ (self,message):\n",
    "        super().__init__(message)\n",
    "        \n",
    "def process_data(data):\n",
    "        if not isinstance(data , int):\n",
    "            raise CustomError(\"Invalid data type . Integer excepted\")\n",
    "try:\n",
    "        process_data (\"invalid_data\")\n",
    "except CustomError as e :\n",
    "        print(\"Error:\" , e )"
   ]
  },
  {
   "cell_type": "markdown",
   "id": "774e64c2-3373-4322-b24e-fc64cdec9376",
   "metadata": {},
   "source": [
    "5.Create a custom Exception class .Use this class to handle an exception ."
   ]
  },
  {
   "cell_type": "code",
   "execution_count": null,
   "id": "1cf0a0d2-d02a-438a-b17a-6313e0f69421",
   "metadata": {},
   "outputs": [],
   "source": [
    "class CustomError(Exception):\n",
    "    \"\"\" Custom exception for specific error scenario\"\"\"\n",
    "    \n",
    "    def __init__ (self, message):\n",
    "        super().__init__(message)\n",
    "\n",
    "def divide(a, b ):\n",
    "    if b ==0 :\n",
    "        raise CustomError(\"Division by zero is not allowed\")\n",
    "        retunb\n",
    "try:\n",
    "    result = divide(10,0)\n",
    "except CustomError as e:\n",
    "    print(\"Error :\", e)\n",
    "else:\n",
    "    print(\"Result of division :\", result)"
   ]
  }
 ],
 "metadata": {
  "kernelspec": {
   "display_name": "Python 3 (ipykernel)",
   "language": "python",
   "name": "python3"
  },
  "language_info": {
   "codemirror_mode": {
    "name": "ipython",
    "version": 3
   },
   "file_extension": ".py",
   "mimetype": "text/x-python",
   "name": "python",
   "nbconvert_exporter": "python",
   "pygments_lexer": "ipython3",
   "version": "3.10.8"
  }
 },
 "nbformat": 4,
 "nbformat_minor": 5
}
