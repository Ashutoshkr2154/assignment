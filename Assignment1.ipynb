{
 "cells": [
  {
   "cell_type": "code",
   "execution_count": 1,
   "id": "4bf79d3d-6c0a-4696-b892-f64c0844ab97",
   "metadata": {},
   "outputs": [],
   "source": [
    "#Explain with example when to use a for loop and while loop."
   ]
  },
  {
   "cell_type": "code",
   "execution_count": 2,
   "id": "35ad39de-1de1-4d47-8644-3dec342b9a82",
   "metadata": {},
   "outputs": [
    {
     "name": "stdout",
     "output_type": "stream",
     "text": [
      "apple\n",
      "banana\n",
      "orange\n"
     ]
    }
   ],
   "source": [
    "\"\"\" 'For' loop is used when we want to loop over a a sequence of values.\n",
    "A sequence can be list,tuple,dictionary or any other iterable object.\n",
    "The loop will iterate through  each element in the sequence ,and we \n",
    "can access the current element using loop variable.\n",
    "EXAMPLE OF FOR LOOP :-\"\"\"\n",
    "fruits =[\"apple\",\"banana\",\"orange\"]\n",
    "for fruit in fruits:\n",
    "    print (fruit)"
   ]
  },
  {
   "cell_type": "code",
   "execution_count": 3,
   "id": "1b626b0e-9648-401c-85b5-acdfec501693",
   "metadata": {},
   "outputs": [
    {
     "name": "stdout",
     "output_type": "stream",
     "text": [
      "Hello Ashutosh\n",
      "Hello Ashutosh\n",
      "Hello Ashutosh\n"
     ]
    }
   ],
   "source": [
    "\"\"\" 'while' loop is used when we want to loop until a ceatain condition is met.\n",
    "The loop will continue to run as long as the condition is true .\n",
    "we can use a 'while 'loop when we dont know how mnay times the loop needs to \n",
    "run ,or when the number of iterations depends on user input or external factors .\"\"\"\n",
    "count=0\n",
    "while (count<3):\n",
    "    count=count+1\n",
    "    print(\"Hello Ashutosh\")"
   ]
  },
  {
   "cell_type": "code",
   "execution_count": 4,
   "id": "ee709f58-33dc-4c43-8a05-e1a657bccf4c",
   "metadata": {},
   "outputs": [],
   "source": [
    "# Write a program in python to print the sum and product of first 10 natural numbers using for and while loop ."
   ]
  },
  {
   "cell_type": "code",
   "execution_count": 11,
   "id": "800996bf-08e8-410e-b90c-76615830c12e",
   "metadata": {},
   "outputs": [
    {
     "name": "stdout",
     "output_type": "stream",
     "text": [
      "first 10 natural numbers using for loop\n",
      "1\n",
      "2\n",
      "3\n",
      "4\n",
      "5\n",
      "6\n",
      "7\n",
      "8\n",
      "9\n",
      "10\n"
     ]
    }
   ],
   "source": [
    "print(\"first 10 natural numbers using for loop\")\n",
    "for i in range (1,11):\n",
    "    print(i)"
   ]
  },
  {
   "cell_type": "code",
   "execution_count": 13,
   "id": "4eb62231-fee9-43f1-94dd-90d69eb3c6dc",
   "metadata": {},
   "outputs": [
    {
     "name": "stdout",
     "output_type": "stream",
     "text": [
      "the first 10 natural numbers using while loop\n",
      "1\n",
      "2\n",
      "3\n",
      "4\n",
      "5\n",
      "6\n",
      "7\n",
      "8\n",
      "9\n",
      "10\n"
     ]
    }
   ],
   "source": [
    "print(\"the first 10 natural numbers using while loop\")\n",
    "i=1\n",
    "while(i<=10):\n",
    "    print(i)\n",
    "    i=i+1"
   ]
  },
  {
   "cell_type": "code",
   "execution_count": 14,
   "id": "264ad96e-06d0-44f1-a757-7c743d2a031d",
   "metadata": {},
   "outputs": [],
   "source": [
    "#Question 3"
   ]
  },
  {
   "cell_type": "code",
   "execution_count": 29,
   "id": "3f03a2bc-15a7-4a32-bd2e-ba7a2d2bb908",
   "metadata": {},
   "outputs": [
    {
     "name": "stdin",
     "output_type": "stream",
     "text": [
      "enter the units of electricity consumed 310\n"
     ]
    },
    {
     "name": "stdout",
     "output_type": "stream",
     "text": [
      " your elecricity bill amountis Rs: 2250.0\n"
     ]
    }
   ],
   "source": [
    "unit=int(input(\"enter the units of electricity consumed\"))\n",
    "bill=0\n",
    "if unit <=100:\n",
    "    bill=unit*4.5\n",
    "    print(bill)\n",
    "elif unit<=200:\n",
    "    bill=100*4.5 +(unit-100)*6\n",
    "    print(bill)\n",
    "elif unit<=300:\n",
    "    bill =100*4.5 +(100)*6+(unit-200)*10\n",
    "    print(bill)\n",
    "else:\n",
    "    bill=100*4.5 +(100)*6+(100)*10+(unit-300)*20\n",
    "print(\" your elecricity bill amountis Rs:\",bill)"
   ]
  },
  {
   "cell_type": "code",
   "execution_count": 30,
   "id": "95fa8d57-d9bb-4550-bff9-e7892c2fe942",
   "metadata": {},
   "outputs": [],
   "source": [
    "#Question4 \n",
    "\"\"\"create a list of numbers from 1 to 100 .\n",
    "use for loop and while loop to calculate \n",
    "the cube of that number is divisible by 4or 5 then\n",
    "append that number in a list and print that list.\"\"\""
   ]
  },
  {
   "cell_type": "code",
   "execution_count": 36,
   "id": "daf15cbd-83d8-4ead-a063-5bbbe973a3bb",
   "metadata": {},
   "outputs": [
    {
     "name": "stdout",
     "output_type": "stream",
     "text": [
      "[2, 4, 5, 6, 8, 10, 12, 14, 15, 16, 18, 20, 22, 24, 25, 26, 28, 30, 32, 34, 35, 36, 38, 40, 42, 44, 45, 46, 48, 50, 52, 54, 55, 56, 58, 60, 62, 64, 65, 66, 68, 70, 72, 74, 75, 76, 78, 80, 82, 84, 85, 86, 88, 90, 92, 94, 95, 96, 98, 100]\n"
     ]
    }
   ],
   "source": [
    "# by using for loop \n",
    "cubes=[]\n",
    "divisible_by_4_or_5=[]\n",
    "for num in range(1,101):\n",
    "    cube =num**3\n",
    "    cubes.append(cube)\n",
    "    if cube%4==0 or cube%5==0:\n",
    "        divisible_by_4_or_5.append(num)\n",
    "print(divisible_by_4_or_5)"
   ]
  },
  {
   "cell_type": "code",
   "execution_count": 41,
   "id": "2a4eb89e-f698-42ed-aa5b-518369a2288d",
   "metadata": {},
   "outputs": [
    {
     "name": "stdout",
     "output_type": "stream",
     "text": [
      "[2, 4, 5, 6, 8, 10, 12, 14, 15, 16, 18, 20, 22, 24, 25, 26, 28, 30, 32, 34, 35, 36, 38, 40, 42, 44, 45, 46, 48, 50, 52, 54, 55, 56, 58, 60, 62, 64, 65, 66, 68, 70, 72, 74, 75, 76, 78, 80, 82, 84, 85, 86, 88, 90, 92, 94, 95, 96, 98, 100]\n"
     ]
    }
   ],
   "source": [
    "result=[]\n",
    "num=1\n",
    "while num<=100:\n",
    "    cube=num**3\n",
    "    if cube %4==0 or cube %5==0:\n",
    "        result.append(num)\n",
    "    num+=1\n",
    "print(result)"
   ]
  },
  {
   "cell_type": "code",
   "execution_count": 48,
   "id": "116dec75-7909-4e51-bffd-b4a00889a34c",
   "metadata": {},
   "outputs": [
    {
     "name": "stdout",
     "output_type": "stream",
     "text": [
      "number of vowels in the string 12\n"
     ]
    }
   ],
   "source": [
    "string=\"I want to become a data scientist\"\n",
    "def count_vowels(string):\n",
    "    vowels =['a','e','i','o','u',]\n",
    "    vowel_count=0\n",
    "    for char in string:\n",
    "        if char.lower() in vowels:\n",
    "            vowel_count+=1\n",
    "    return vowel_count \n",
    "print(\"number of vowels in the string\",count_vowels(string))"
   ]
  },
  {
   "cell_type": "code",
   "execution_count": null,
   "id": "7753407b-25e5-40ed-b6d8-950693199f02",
   "metadata": {},
   "outputs": [],
   "source": []
  }
 ],
 "metadata": {
  "kernelspec": {
   "display_name": "Python 3 (ipykernel)",
   "language": "python",
   "name": "python3"
  },
  "language_info": {
   "codemirror_mode": {
    "name": "ipython",
    "version": 3
   },
   "file_extension": ".py",
   "mimetype": "text/x-python",
   "name": "python",
   "nbconvert_exporter": "python",
   "pygments_lexer": "ipython3",
   "version": "3.10.8"
  }
 },
 "nbformat": 4,
 "nbformat_minor": 5
}
