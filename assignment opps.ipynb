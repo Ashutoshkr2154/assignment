{
 "cells": [
  {
   "cell_type": "code",
   "execution_count": 1,
   "id": "3cdfd821-2525-4f18-8767-e25dbb23146b",
   "metadata": {},
   "outputs": [
    {
     "data": {
      "text/plain": [
       "'Objects on the other hand ,instances of a class.\\nThey represents specific entities that can intract with \\neach other and perform actions based on the class definition \\n'"
      ]
     },
     "execution_count": 1,
     "metadata": {},
     "output_type": "execute_result"
    }
   ],
   "source": [
    "#Explain class and object with respect to Object -oriented programming.give suitable example.\n",
    "\"\"\"In OPP ,a class is a blueprint or templete for creating objects .\n",
    "It defines the structure and bhaviour of object that belong to it .A class\n",
    "encapsulate data (attributes)and functions that operate on the data. \n",
    "\"\"\"\n",
    "\"\"\"Objects on the other hand ,instances of a class.\n",
    "They represents specific entities that can intract with \n",
    "each other and perform actions based on the class definition \n",
    "\"\"\""
   ]
  },
  {
   "cell_type": "code",
   "execution_count": 9,
   "id": "5d5252c4-29a3-4101-97c1-8013ad50b0ed",
   "metadata": {},
   "outputs": [],
   "source": [
    "# Example\n",
    "class car :\n",
    "    def __init__(self ,make ,model ,year ):\n",
    "        self.make=make\n",
    "        self .model =model\n",
    "        self.year =year \n",
    "        self.speed=0\n",
    "    \n",
    "    def accelarate (self ,speed_increment):\n",
    "        self.speed +=speed_increment\n",
    "        \n",
    "    def brake (self ,speed_decrement):\n",
    "        self.speed -=speed_decrement\n",
    "        \n",
    "    def get_speed (self):\n",
    "        return self.speed \n"
   ]
  },
  {
   "cell_type": "code",
   "execution_count": 10,
   "id": "8e4c061e-e7b3-4946-8f07-3f5a1ee3ad75",
   "metadata": {},
   "outputs": [],
   "source": [
    "car1=car(\"ford \",\"mustang\",2020)\n",
    "car2=car(\"tesla \",\"model S\",2022)"
   ]
  },
  {
   "cell_type": "code",
   "execution_count": 11,
   "id": "6de27f09-5a2a-4ae4-b5c5-cca29799d5e6",
   "metadata": {},
   "outputs": [
    {
     "name": "stdout",
     "output_type": "stream",
     "text": [
      "20\n",
      "15\n",
      "15\n",
      "10\n"
     ]
    }
   ],
   "source": [
    "car1.accelarate (20)\n",
    "car2.accelarate(15)\n",
    "\n",
    "print(car1.get_speed())\n",
    "print(car2.get_speed())\n",
    "\n",
    "car1.brake (5)\n",
    "car2.brake(5)\n",
    "\n",
    "print(car1.get_speed ())\n",
    "print(car2.get_speed ())"
   ]
  },
  {
   "cell_type": "code",
   "execution_count": 2,
   "id": "f2934677-b558-47bb-ae3d-48d43e7863b7",
   "metadata": {},
   "outputs": [
    {
     "data": {
      "text/plain": [
       "'The four pillars of opps are as follow :-\\n    Abstraction .\\n    Encapsulation.\\n    Inheritance.\\n    polymorphism .\\n'"
      ]
     },
     "execution_count": 2,
     "metadata": {},
     "output_type": "execute_result"
    }
   ],
   "source": [
    "\n",
    "#Name the four pillars of OOPs.\n",
    "\"\"\"The four pillars of opps are as follow :-\n",
    "    Abstraction .\n",
    "    Encapsulation.\n",
    "    Inheritance.\n",
    "    polymorphism .\n",
    "\"\"\""
   ]
  },
  {
   "cell_type": "code",
   "execution_count": 6,
   "id": "c38e9bd7-01d7-4b58-89a4-17e4c60dfdbe",
   "metadata": {},
   "outputs": [
    {
     "data": {
      "text/plain": [
       "'The self variable is used to represent the instance of the class which\\n    is often used in object oriented programming .It works as a reference to the \\n    object .Python uses the self parameter to refer to instance attributes and methods \\n    of  the class .\\n'"
      ]
     },
     "execution_count": 6,
     "metadata": {},
     "output_type": "execute_result"
    }
   ],
   "source": [
    "#Q4. Why self is used in OOPs?\n",
    "\"\"\"The self variable is used to represent the instance of the class which\n",
    "    is often used in object oriented programming .It works as a reference to the \n",
    "    object .Python uses the self parameter to refer to instance attributes and methods \n",
    "    of  the class .\n",
    "\"\"\"\n",
    "    "
   ]
  },
  {
   "cell_type": "code",
   "execution_count": 1,
   "id": "7cd8d7c2-d326-4f67-8d83-8d7326279a85",
   "metadata": {},
   "outputs": [
    {
     "data": {
      "text/plain": [
       "'Inherentance relationship defines the classes that inherit from other classes as derived,\\n    sub class or sub type classes.\\n    TYPES Of INHERITENCE ARE AS FOLLOWS :-\\n   - Single inherentance.\\n    -multiple inherentance.\\n    -multilevel inherentance.\\n    -heircheical inherentance.\\n    -hybrid inherentance.\\n    \\n'"
      ]
     },
     "execution_count": 1,
     "metadata": {},
     "output_type": "execute_result"
    }
   ],
   "source": [
    "# What is inheritance? Give an example for each type of inheritance.\n",
    "\"\"\"Inherentance relationship defines the classes that inherit from other classes as derived,\n",
    "    sub class or sub type classes.\n",
    "    TYPES Of INHERITENCE ARE AS FOLLOWS :-\n",
    "   - Single inherentance.\n",
    "    -multiple inherentance.\n",
    "    -multilevel inherentance.\n",
    "    -heircheical inherentance.\n",
    "    -hybrid inherentance.\n",
    "    \n",
    "\"\"\""
   ]
  },
  {
   "cell_type": "code",
   "execution_count": 1,
   "id": "4fdd7d54-f401-40f9-a06f-12a18a54a52f",
   "metadata": {},
   "outputs": [
    {
     "data": {
      "text/plain": [
       "' Single inheritance enables a derived class to inherit properties ofrom a single parent\\n    class ,thus enabling code reusability and the addition of new features to existing code.\\n\\n    Multiple inheritance ,when a class can be derived from more than one base class this type \\n    of inheritance is called multiple inheritence, all the features of the base classes are \\n    inherited into the derived class.\\n\\n    Multilevel inheritance,features of the base class and the derived class are further \\n    inherited into the new derived class .\\n    This is similar to a relationship representing a child and a grandfather .\\n\\n    Hierarchical inheritance,when more than one derived class are created from a single \\n    base this type of inheritance  is called hierarchical inheritance .In eg of hierarchical \\n    inheritance we have a parent (base )class and two child (derived )classes.\\n\\n    Hybrid inheritance,Inheritance consisting of multiple types of inheritance is, \\n    called hybrid inheritance.\\n'"
      ]
     },
     "execution_count": 1,
     "metadata": {},
     "output_type": "execute_result"
    }
   ],
   "source": [
    "\"\"\" Single inheritance enables a derived class to inherit properties ofrom a single parent\n",
    "    class ,thus enabling code reusability and the addition of new features to existing code.\n",
    "\"\"\" \"\"\"\n",
    "    Multiple inheritance ,when a class can be derived from more than one base class this type \n",
    "    of inheritance is called multiple inheritence, all the features of the base classes are \n",
    "    inherited into the derived class.\n",
    "\"\"\" \"\"\"\n",
    "    Multilevel inheritance,features of the base class and the derived class are further \n",
    "    inherited into the new derived class .\n",
    "    This is similar to a relationship representing a child and a grandfather .\n",
    "\"\"\" \"\"\"\n",
    "    Hierarchical inheritance,when more than one derived class are created from a single \n",
    "    base this type of inheritance  is called hierarchical inheritance .In eg of hierarchical \n",
    "    inheritance we have a parent (base )class and two child (derived )classes.\n",
    "\"\"\" \"\"\"\n",
    "    Hybrid inheritance,Inheritance consisting of multiple types of inheritance is, \n",
    "    called hybrid inheritance.\n",
    "\"\"\""
   ]
  },
  {
   "cell_type": "code",
   "execution_count": 2,
   "id": "9b317802-a72c-4fce-9193-17331c8cf022",
   "metadata": {},
   "outputs": [
    {
     "name": "stdout",
     "output_type": "stream",
     "text": [
      "This function is in parent class\n",
      "This function is in child class \n"
     ]
    }
   ],
   "source": [
    "\n",
    "#Example of single inheritance\n",
    "#base class \n",
    "class Parent:\n",
    "    def function1(self):\n",
    "        print(\"This function is in parent class\")\n",
    "#Derived class \n",
    "class Child (parent):\n",
    "    def function2(self):\n",
    "        print(\"This function is in child class \")\n",
    "object =Child ()\n",
    "object.function1()\n",
    "object.function2()\n",
    "        "
   ]
  },
  {
   "cell_type": "code",
   "execution_count": 6,
   "id": "3afd173e-db38-4acf-8332-2b3c89582da0",
   "metadata": {},
   "outputs": [
    {
     "name": "stdout",
     "output_type": "stream",
     "text": [
      "Father : RAM\n",
      "Mother : SITA\n"
     ]
    }
   ],
   "source": [
    "#Example of multiple inheritance\n",
    "class Mother:\n",
    "    mothername =\" \"\n",
    "    def mother (self):\n",
    "        print(self.mothername)\n",
    "class Father :\n",
    "    fathername=\" \"\n",
    "    def father (self):\n",
    "        print(self.fathername)\n",
    "class Son (Mother ,Father ):\n",
    "    def parents (self):\n",
    "        print(\"Father :\",self.fathername)\n",
    "        print(\"Mother :\",self.mothername)\n",
    "s1=Son()\n",
    "s1.fathername=\"RAM\"\n",
    "s1.mothername=\"SITA\"\n",
    "s1.parents()"
   ]
  },
  {
   "cell_type": "code",
   "execution_count": 4,
   "id": "3251f32e-d654-46c1-95e4-ebe9e9d9a37a",
   "metadata": {},
   "outputs": [
    {
     "name": "stdout",
     "output_type": "stream",
     "text": [
      "lal mani\n",
      "Grandfather name: lal mani\n",
      "Father name: Rampal\n",
      "son name: Prince\n"
     ]
    }
   ],
   "source": [
    "#example of multilevel inheritence.\n",
    "#Base class\n",
    "class Grandfather:\n",
    "    def __init__(self,grandfathername):\n",
    "        self.grandfathername=grandfathername\n",
    "#Intermediate class \n",
    "class Father (Grandfather):\n",
    "    def __init__(self,fathername,grandfathername):\n",
    "        self.fathername =fathername\n",
    "        Grandfather.__init__(self,grandfathername)\n",
    "#Derived class\n",
    "class Son (Father):\n",
    "    def __init__(self,sonname,fathername,grandfathername):\n",
    "        self.sonname =sonname\n",
    "        Father.__init__(self,fathername,grandfathername)\n",
    "    def print_name (self):\n",
    "        print('Grandfather name:' ,self.grandfathername)\n",
    "        print(\"Father name:\",self.fathername)\n",
    "        print(\"son name:\", self.sonname)\n",
    "        \n",
    "s1=Son('Prince','Rampal','lal mani')\n",
    "print(s1.grandfathername)\n",
    "s1.print_name()"
   ]
  },
  {
   "cell_type": "code",
   "execution_count": 8,
   "id": "a86e83d6-0a82-41e7-8280-7e3b30e7e047",
   "metadata": {},
   "outputs": [
    {
     "name": "stdout",
     "output_type": "stream",
     "text": [
      "This function is in parent class \n",
      "This function is  in child 1\n",
      "This function is in parent class \n",
      "This function is child 2 \n"
     ]
    }
   ],
   "source": [
    "#Example of Hierachical Inheritance\n",
    "class Parent:\n",
    "    def function1(self):\n",
    "        print(\"This function is in parent class \")\n",
    "\n",
    "class Child1(Parent):\n",
    "    def function2(self):\n",
    "        print(\"This function is  in child 1\")\n",
    "        \n",
    "class Child2(Parent):\n",
    "    def function3(self):\n",
    "        print(\"This function is child 2 \")\n",
    "        \n",
    "object1=Child1()        \n",
    "object2=Child2() \n",
    "object1.function1()\n",
    "object1.function2()\n",
    "object2.function1()\n",
    "object2.function3()\n"
   ]
  },
  {
   "cell_type": "code",
   "execution_count": 4,
   "id": "aa89126c-6320-4981-a2a7-7ce8ebb87b67",
   "metadata": {},
   "outputs": [
    {
     "name": "stdout",
     "output_type": "stream",
     "text": [
      "This function is in school.\n",
      "This function is in student 1\n"
     ]
    }
   ],
   "source": [
    "#example odf hubrid inheritance\n",
    "class School :\n",
    "    def function1(self):\n",
    "        print(\"This function is in school.\")\n",
    "class Student1(School):\n",
    "    def function2(self):\n",
    "        print(\"This function is in student 1\")\n",
    "class Student2(School):\n",
    "    def function3(self):\n",
    "        print(\"This function is in student 2\")\n",
    "class Student3(Student1,School):\n",
    "    def function4(self):\n",
    "        print(\"This function is in student 3\")\n",
    "        \n",
    "object = Student3()\n",
    "object.function1()\n",
    "object.function2()"
   ]
  },
  {
   "cell_type": "code",
   "execution_count": null,
   "id": "78f68062-8761-473b-ab2a-c795ab6c8954",
   "metadata": {},
   "outputs": [],
   "source": []
  }
 ],
 "metadata": {
  "kernelspec": {
   "display_name": "Python 3 (ipykernel)",
   "language": "python",
   "name": "python3"
  },
  "language_info": {
   "codemirror_mode": {
    "name": "ipython",
    "version": 3
   },
   "file_extension": ".py",
   "mimetype": "text/x-python",
   "name": "python",
   "nbconvert_exporter": "python",
   "pygments_lexer": "ipython3",
   "version": "3.10.8"
  }
 },
 "nbformat": 4,
 "nbformat_minor": 5
}
