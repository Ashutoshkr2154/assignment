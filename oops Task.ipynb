{
 "cells": [
  {
   "cell_type": "markdown",
   "id": "965109be-cfeb-4dbd-aa6e-e082eec37a63",
   "metadata": {},
   "source": [
    " Q1.Create a vehicle class with an init method having instance variables as name_of_vehicle, max_speed\n",
    "and average_of_vehicle."
   ]
  },
  {
   "cell_type": "code",
   "execution_count": 1,
   "id": "fccfcfe7-a7ab-4bf1-aec7-da4d631bb458",
   "metadata": {},
   "outputs": [
    {
     "name": "stdout",
     "output_type": "stream",
     "text": [
      "Name of vehicle : Toyota\n",
      "Max speed : 150\n",
      "Average of vehicle : 30\n"
     ]
    }
   ],
   "source": [
    "class Vehicle :\n",
    "    def __init__ (self , name_of_vehicle , max_speed , average_of_vehicle):\n",
    "        self.name_of_vehicle =name_of_vehicle \n",
    "        self.max_speed =max_speed \n",
    "        self.average_of_vehicle = average_of_vehicle\n",
    "\n",
    "car =Vehicle (\"Toyota\",150,30)\n",
    "print(\"Name of vehicle :\", car.name_of_vehicle)\n",
    "print(\"Max speed :\", car.max_speed)\n",
    "print(\"Average of vehicle :\",car.average_of_vehicle)\n"
   ]
  },
  {
   "cell_type": "markdown",
   "id": "6cdfcc87-cfcd-4aaa-8249-34ed398b9ddf",
   "metadata": {},
   "source": [
    " Q2.Create a child class car from the vehicle class created in Que 1, which will inherit the vehicle class.\n",
    "Create a method named seating_capacity which takes capacity as an argument and returns the name of\n",
    "the vehicle and its seating capacity."
   ]
  },
  {
   "cell_type": "code",
   "execution_count": 2,
   "id": "7d4b1556-aaf7-4035-8b84-7bf1d0b5455c",
   "metadata": {},
   "outputs": [
    {
     "name": "stdout",
     "output_type": "stream",
     "text": [
      "Toyota Camry has a seating capacity of 5.\n"
     ]
    }
   ],
   "source": [
    "class Car (Vehicle):\n",
    "    def seating_capacity (self, capacity):\n",
    "        return f\"{self.name_of_vehicle}has a seating capacity of {capacity}.\"\n",
    "\n",
    "car = Car (\"Toyota Camry \", 150 ,30)\n",
    "print(car.seating_capacity(5))"
   ]
  },
  {
   "cell_type": "markdown",
   "id": "f67d34a4-be1b-4dad-b321-70116fe1cea6",
   "metadata": {},
   "source": [
    "3. What is multiple inheritance? Write a python code to demonstrate multiple inheritance."
   ]
  },
  {
   "cell_type": "markdown",
   "id": "8a4f36e9-3765-4679-b870-8aecdfcd241e",
   "metadata": {},
   "source": [
    "Multiple inheritance is a feature in object oriented programming ,where a class can inherit attributes and methods from more than one parent class .This allows a child class to incorporate features from multiple parent classes.\n",
    "Example:-"
   ]
  },
  {
   "cell_type": "code",
   "execution_count": 6,
   "id": "64d5d59f-a3b8-45be-afe0-31af65a9d5ac",
   "metadata": {},
   "outputs": [
    {
     "name": "stdout",
     "output_type": "stream",
     "text": [
      "Method from parent1 \n",
      "Method from parent2\n",
      "Mehtod from Child\n"
     ]
    }
   ],
   "source": [
    "class Parent1:\n",
    "    def method1 (self):\n",
    "        print(\"Method from parent1 \")\n",
    "class Parent2:\n",
    "    def method2(self):\n",
    "        print(\"Method from parent2\")\n",
    "class Child(Parent1 , Parent2):\n",
    "    def method3(self):\n",
    "        print(\"Mehtod from Child\")\n",
    "\n",
    "child =Child()\n",
    "child.method1()\n",
    "child.method2()\n",
    "child.method3()"
   ]
  },
  {
   "cell_type": "markdown",
   "id": "89d65889-8b75-4dd4-945d-fdc63e06c87b",
   "metadata": {},
   "source": [
    "Q 4. What are getter and setter in python? Create a class and create a getter and a setter method in this\n",
    "class."
   ]
  },
  {
   "cell_type": "markdown",
   "id": "c7846842-f4d2-400f-9c8e-07d5e4480755",
   "metadata": {},
   "source": [
    "In python getter and setters are methods used to access and modify the attributes of a class respectively .They are used to enforce encapsulation and ensure that the class attributes are accessed and modified in a controlled manner.\n",
    "Example:"
   ]
  },
  {
   "cell_type": "code",
   "execution_count": 7,
   "id": "d63777cc-09bc-4f4a-9383-1dc28d618e2d",
   "metadata": {},
   "outputs": [
    {
     "name": "stdout",
     "output_type": "stream",
     "text": [
      "Name: Ashu\n",
      "Age: 19\n",
      "Updated Name: Baishu\n",
      "Updated Age: 20\n",
      "Age cannot be negative.\n"
     ]
    }
   ],
   "source": [
    "class Person:\n",
    "    def __init__(self, name, age):\n",
    "        self._name = name\n",
    "        self._age = age\n",
    "\n",
    "    def get_name(self):\n",
    "        return self._name\n",
    "\n",
    "    def set_name(self, name):\n",
    "        self._name = name\n",
    "\n",
    "    def get_age(self):\n",
    "        return self._age\n",
    "\n",
    "    def set_age(self, age):\n",
    "        if age < 0:\n",
    "            print(\"Age cannot be negative.\")\n",
    "        else:\n",
    "            self._age = age\n",
    "            \n",
    "person1 = Person(\"Ashu\", 19)\n",
    "print(\"Name:\", person1.get_name())  \n",
    "print(\"Age:\", person1.get_age())    \n",
    "\n",
    "person1.set_name(\"Baishu\")\n",
    "person1.set_age(20)\n",
    "\n",
    "print(\"Updated Name:\", person1.get_name())  \n",
    "print(\"Updated Age:\", person1.get_age())\n",
    "\n",
    "person1.set_age(-5)  \n"
   ]
  },
  {
   "cell_type": "markdown",
   "id": "ffb79c9d-70f8-48d8-8d65-50323e2252b0",
   "metadata": {},
   "source": [
    "Q5.What is method overriding in python? Write a python code to demonstrate method overriding."
   ]
  },
  {
   "cell_type": "markdown",
   "id": "ab20153b-bf8e-4c83-9bbc-b3841114ac60",
   "metadata": {},
   "source": [
    "Method overriding in python refers to the ability of a sub class to provide a specific implementation of a method that is already defined in its superclass.\n",
    "When a method in the subclass has the same name , same parameters and same return type as a method in its superclass .It overrides the mehtod in the superclass.\n",
    "\n",
    "Example:-"
   ]
  },
  {
   "cell_type": "code",
   "execution_count": null,
   "id": "ee2c30be-d7c1-42ff-8dd0-121025aa9b73",
   "metadata": {},
   "outputs": [],
   "source": [
    "class Animal:\n",
    "    def make_sound(self):\n",
    "        print(\"Animal makes a sound \")\n",
    "\n",
    "class Dog()"
   ]
  }
 ],
 "metadata": {
  "kernelspec": {
   "display_name": "Python 3 (ipykernel)",
   "language": "python",
   "name": "python3"
  },
  "language_info": {
   "codemirror_mode": {
    "name": "ipython",
    "version": 3
   },
   "file_extension": ".py",
   "mimetype": "text/x-python",
   "name": "python",
   "nbconvert_exporter": "python",
   "pygments_lexer": "ipython3",
   "version": "3.10.8"
  }
 },
 "nbformat": 4,
 "nbformat_minor": 5
}
