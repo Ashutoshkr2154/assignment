{
 "cells": [
  {
   "cell_type": "code",
   "execution_count": 4,
   "id": "fdebec23-764a-4c88-8b85-513e1eb31233",
   "metadata": {},
   "outputs": [
    {
     "data": {
      "text/plain": [
       "'Statistics is the science of collecting, organizing, and analyzing data.\\n'"
      ]
     },
     "execution_count": 4,
     "metadata": {},
     "output_type": "execute_result"
    }
   ],
   "source": [
    "#Question 1\n",
    "\"\"\"Statistics is the science of collecting, organizing, and analyzing data.\n",
    "\"\"\""
   ]
  },
  {
   "cell_type": "code",
   "execution_count": 5,
   "id": "c9e9d567-8ad5-4d85-ab3a-86eebafe291c",
   "metadata": {},
   "outputs": [
    {
     "data": {
      "text/plain": [
       "\"Types of statics:-\\n\\t1. Descriptive statistics:-It consists of organizing and summarizing data.\\n\\t i) Measure of central tendency.[mean, median, mode]\\n\\t ii) Measure of dispersion[varience,standard deviation]\\n\\t iii)Different types of distribution of data [histogram, pdf function, probability mass function(pmf)].\\n\\n\\neg:-let's say there are 20 statistics classes at your college and you have collected the heights of students in the classroom.\\n--> heights are recorded{175,180,160,165, 190,174,166}\\n=(175+180+160+165+ 190+174+166)/7\\n\\n\\t2. Inferential statistics:-It consists of using data you have measured to form a conclusion.\\n\\ti)Z-test{hypothesis testing, Ho, H, p-value, significance value}\\n\\tii)t-test\\n\\tiii) HI square\\n\\neg:-are the height of the students in the classroom similar to what you \\nexpect in the entire college.\\n\""
      ]
     },
     "execution_count": 5,
     "metadata": {},
     "output_type": "execute_result"
    }
   ],
   "source": [
    "# Question 2\n",
    "\"\"\"Types of statics:-\n",
    "\t1. Descriptive statistics:-It consists of organizing and summarizing data.\n",
    "\t i) Measure of central tendency.[mean, median, mode]\n",
    "\t ii) Measure of dispersion[varience,standard deviation]\n",
    "\t iii)Different types of distribution of data [histogram, pdf function, probability mass function(pmf)].\n",
    "\n",
    "\n",
    "eg:-let's say there are 20 statistics classes at your college and you have collected the heights of students in the classroom.\n",
    "--> heights are recorded{175,180,160,165, 190,174,166}\n",
    "=(175+180+160+165+ 190+174+166)/7\n",
    "\n",
    "\t2. Inferential statistics:-It consists of using data you have measured to form a conclusion.\n",
    "\ti)Z-test{hypothesis testing, Ho, H, p-value, significance value}\n",
    "\tii)t-test\n",
    "\tiii) HI square\n",
    "\n",
    "eg:-are the height of the students in the classroom similar to what you \n",
    "expect in the entire college.\n",
    "\"\"\""
   ]
  },
  {
   "cell_type": "code",
   "execution_count": 6,
   "id": "34104f36-d8f3-4687-aa22-79af6d388870",
   "metadata": {},
   "outputs": [
    {
     "data": {
      "text/plain": [
       "' DATA:-Data are of two types (i) Quantitative(numerical value) data (ii) Qualitative(categorical) data\\n---> Quantitative data are of two types (i) Discrete (whole no.) (ii) continuous(any value) \\n\\neg of discrete:-(i)number of bank accounts of an individual\\n\\t\\t(ii)number of children in a family.\\neg of continuous:- weight, height    \\n---> Qualitative data are of two types (i) Nominal (ii) Ordinal(Rank)\\neg of nominal:-Gender, blood group, Pincode, male /female, etc.\\neg of ordinal:- customer feedback for any product, good, bad, superb, etc. '"
      ]
     },
     "execution_count": 6,
     "metadata": {},
     "output_type": "execute_result"
    }
   ],
   "source": [
    "#Question 3\n",
    "\"\"\" DATA:-Data are of two types (i) Quantitative(numerical value) data (ii) Qualitative(categorical) data\n",
    "---> Quantitative data are of two types (i) Discrete (whole no.) (ii) continuous(any value) \n",
    "\n",
    "eg of discrete:-(i)number of bank accounts of an individual\n",
    "\t\t(ii)number of children in a family.\n",
    "eg of continuous:- weight, height    \n",
    "---> Qualitative data are of two types (i) Nominal (ii) Ordinal(Rank)\n",
    "eg of nominal:-Gender, blood group, Pincode, male /female, etc.\n",
    "eg of ordinal:- customer feedback for any product, good, bad, superb, etc. \"\"\""
   ]
  },
  {
   "cell_type": "code",
   "execution_count": 7,
   "id": "450c6f26-1796-4b42-a7b2-1ca45e604b3d",
   "metadata": {},
   "outputs": [
    {
     "data": {
      "text/plain": [
       "'\\n(i) Qualitative data.\\n(ii) Qualitative data.\\n(iii)Quantitative data.\\n(iv)Quantitative data.\\n'"
      ]
     },
     "execution_count": 7,
     "metadata": {},
     "output_type": "execute_result"
    }
   ],
   "source": [
    "#Question 4\n",
    "\"\"\"\n",
    "(i) Qualitative data.\n",
    "(ii) Qualitative data.\n",
    "(iii)Quantitative data.\n",
    "(iv)Quantitative data.\n",
    "\"\"\""
   ]
  },
  {
   "cell_type": "code",
   "execution_count": 8,
   "id": "3cabb352-8a28-479d-96e4-a0f7fb90e65d",
   "metadata": {
    "collapsed": true,
    "jupyter": {
     "outputs_hidden": true
    },
    "tags": []
   },
   "outputs": [
    {
     "data": {
      "text/plain": [
       "'\\nSCALE OF MEASUREMENT:-\\n\\t(i)nominal scale data \\n\\t(ii)ordinal scale data\\n\\t(iii)internal scale data \\n\\t(iv) Ratio scale data\\n\\n(i) Nominal scale data:-(1)Qualitative /categorical \\n\\t\\t\\t(2)eg:- Gender, colors, labels\\n\\t\\t\\t(3) Order does not matter.\\neg:- Favourite colour \\n\\tred --> 5O--> 50% \\n\\tblue --> 30 --> 30% \\n\\torange --> 2 --> 20% \\n\\t\\t= 10 \\n(ii) Ordinal scale data:-(1)Ranking is important\\n\\t\\t\\t  (2)order matters \\n\\t\\t\\t  (3) Difference cannot be measured.\\neg:- Review of a product \\n     1. BEST \\n     2. GOOD \\n     3. BAD\\n\\neg:-Working professional (preference of the day given as per weekend )\\nM, T, W, Th, F\\n\\neg:-Race 1st,2nd,3rd (Here, rank has been given, but the difference between the timing of the ranks has not been given .)\\n\\t\\n\\n(iii)Interval scale data:-(1)The order matters \\n\\t\\t\\t  (2) Differences can be measured \\n\\t\\t\\t  (3) ratio can not be measured\\n\\t\\t\\t  (4) No \"0\" starting point\\neg:- Temperature variables \\n30 F, 60F, 90F,120F(Here, difference is measured between two temp ie. 30,but ratios can\\'t be measured.)\\nHere, starting point is not 0 because it can be a negative value as well as a positive value.\\nHere, the ratio can\\'t be measured because we can get the ratio, but the ratio doesn\\'t give the proper meaning\\n (like the 1st temperature is double the first temp for ratio 2:1), Since it is a temperature variable.\\n\\n\\n(iv)Ratio scale data:- (1)The order matter \\n\\t\\t\\t(2) Differences are measurable (including ratio )\\n\\t\\t\\t(3) Contains a \" 0 \" starting point.\\n\\neg:- Marks obtained by the students\\n90,30,50,60,70,50(Here, ratio ,difference and order can easily be measured.)\\n\\n'"
      ]
     },
     "execution_count": 8,
     "metadata": {},
     "output_type": "execute_result"
    }
   ],
   "source": [
    "#Question 5\n",
    "\"\"\"\n",
    "SCALE/ level OF MEASUREMENT:-\n",
    "\t(i)nominal scale data \n",
    "\t(ii)ordinal scale data\n",
    "\t(iii)internal scale data \n",
    "\t(iv) Ratio scale data\n",
    "\n",
    "(i) Nominal scale data:-(1)Qualitative /categorical \n",
    "\t\t\t(2)eg:- Gender, colors, labels\n",
    "\t\t\t(3) Order does not matter.\n",
    "eg:- Favourite colour \n",
    "\tred --> 5O--> 50% \n",
    "\tblue --> 30 --> 30% \n",
    "\torange --> 2 --> 20% \n",
    "\t\t= 10 \n",
    "(ii) Ordinal scale data:-(1)Ranking is important\n",
    "\t\t\t  (2)order matters \n",
    "\t\t\t  (3) Difference cannot be measured.\n",
    "eg:- Review of a product \n",
    "     1. BEST \n",
    "     2. GOOD \n",
    "     3. BAD\n",
    "\n",
    "eg:-Working professional (preference of the day given as per weekend )\n",
    "M, T, W, Th, F\n",
    "\n",
    "eg:-Race 1st,2nd,3rd (Here, rank has been given, but the difference between the timing of the ranks has not been given .)\n",
    "\t\n",
    "\n",
    "(iii)Interval scale data:-(1)The order matters \n",
    "\t\t\t  (2) Differences can be measured \n",
    "\t\t\t  (3) ratio can not be measured\n",
    "\t\t\t  (4) No \"0\" starting point\n",
    "eg:- Temperature variables \n",
    "30 F, 60F, 90F,120F(Here, difference is measured between two temp ie. 30,but ratios can't be measured.)\n",
    "Here, starting point is not 0 because it can be a negative value as well as a positive value.\n",
    "Here, the ratio can't be measured because we can get the ratio, but the ratio doesn't give the proper meaning\n",
    " (like the 1st temperature is double the first temp for ratio 2:1), Since it is a temperature variable.\n",
    "\n",
    "\n",
    "(iv)Ratio scale data:- (1)The order matter \n",
    "\t\t\t(2) Differences are measurable (including ratio )\n",
    "\t\t\t(3) Contains a \" 0 \" starting point.\n",
    "\n",
    "eg:- Marks obtained by the students\n",
    "90,30,50,60,70,50(Here, ratio ,difference and order can easily be measured.)\n",
    "\n",
    "\"\"\""
   ]
  },
  {
   "cell_type": "code",
   "execution_count": 9,
   "id": "969210ac-74c2-41ef-af9a-072917dab514",
   "metadata": {
    "collapsed": true,
    "jupyter": {
     "outputs_hidden": true
    },
    "tags": []
   },
   "outputs": [
    {
     "data": {
      "text/plain": [
       "\" Understanding the level of measurement is crucial when \\nanalyzing data because it determines the appropriate statistical\\nanalyses and interpretations that can be applied to the data.\\nDifferent levels of measurement have different characteristics\\nand constraints, which affect the types of statistical operations \\nthat can be performed.\\nFor example, consider a dataset where you have collected information\\nabout people's favorite colors. The level of measurement for this variable\\nis nominal, as colors cannot be ranked or quantitatively compared.\\nIf you were to treat this nominal data as ordinal or interval, it could\\nlead to incorrect conclusions. You cannot calculate means or perform \\narithmetic operations on nominal data, but you can determine mode and \\nconduct chi-square tests to assess if there are significant associations between variables.\\nBy understanding the level of measurement, you can select appropriate \\nstatistical methods and avoid misinterpreting or misrepresenting\\xa0the\\xa0data.\\n\""
      ]
     },
     "execution_count": 9,
     "metadata": {},
     "output_type": "execute_result"
    }
   ],
   "source": [
    "#Question 6\n",
    "\"\"\" Understanding the level of measurement is crucial when \n",
    "analyzing data because it determines the appropriate statistical\n",
    "analyses and interpretations that can be applied to the data.\n",
    "Different levels of measurement have different characteristics\n",
    "and constraints, which affect the types of statistical operations \n",
    "that can be performed.\n",
    "For example, consider a dataset where you have collected information\n",
    "about people's favorite colors. The level of measurement for this variable\n",
    "is nominal, as colors cannot be ranked or quantitatively compared.\n",
    "If you were to treat this nominal data as ordinal or interval, it could\n",
    "lead to incorrect conclusions. You cannot calculate means or perform \n",
    "arithmetic operations on nominal data, but you can determine mode and \n",
    "conduct chi-square tests to assess if there are significant associations between variables.\n",
    "By understanding the level of measurement, you can select appropriate \n",
    "statistical methods and avoid misinterpreting or misrepresenting the data.\n",
    "\"\"\""
   ]
  },
  {
   "cell_type": "code",
   "execution_count": 10,
   "id": "b9ffd090-a9ef-4b85-afb8-4fb1109d87f3",
   "metadata": {},
   "outputs": [
    {
     "data": {
      "text/plain": [
       "'nominal data is classified without  a natural order or\\nrank ,whereas ordinal data has a pretermined or natural order.'"
      ]
     },
     "execution_count": 10,
     "metadata": {},
     "output_type": "execute_result"
    }
   ],
   "source": [
    "#Question 7\n",
    "\"\"\"nominal data is classified without  a natural order or\n",
    "rank ,whereas ordinal data has a pretermined or natural order.\"\"\""
   ]
  },
  {
   "cell_type": "code",
   "execution_count": 11,
   "id": "638ad323-22f6-4b14-8b13-bc9b2b3dd993",
   "metadata": {},
   "outputs": [
    {
     "data": {
      "text/plain": [
       "' A box plot is commonly used to display data\\nin terms of range. It shows the minimum and maximum\\nvalues, the median, and the quartiles of a dataset.\\nThe range is represented by the whiskers, while the \\nbox indicates the interquartile range. Outliers, if\\npresent, are shown as individual points outside the whiskers\\n'"
      ]
     },
     "execution_count": 11,
     "metadata": {},
     "output_type": "execute_result"
    }
   ],
   "source": [
    "#Question 8\n",
    "\"\"\" A box plot is commonly used to display data\n",
    "in terms of range. It shows the minimum and maximum\n",
    "values, the median, and the quartiles of a dataset.\n",
    "The range is represented by the whiskers, while the \n",
    "box indicates the interquartile range. Outliers, if\n",
    "present, are shown as individual points outside the whiskers\n",
    "\"\"\""
   ]
  },
  {
   "cell_type": "code",
   "execution_count": 12,
   "id": "5f9460cf-c304-4020-90bc-d3a6b5ab936d",
   "metadata": {
    "collapsed": true,
    "jupyter": {
     "outputs_hidden": true
    },
    "tags": []
   },
   "outputs": [
    {
     "data": {
      "text/plain": [
       "'Descriptive statistics summarizes and describes\\ndata, providing insights within the dataset itself.\\nFor example, calculating the average height of students\\nin a class.\\nInferential statistics makes inferences and generalizations\\nabout populations based on sample data. For example, determining\\nif there is a significant difference in test scores between two \\ngroups of students.\\n'"
      ]
     },
     "execution_count": 12,
     "metadata": {},
     "output_type": "execute_result"
    }
   ],
   "source": [
    "# Question 9\n",
    "\"\"\"Descriptive statistics summarizes and describes\n",
    "data, providing insights within the dataset itself.\n",
    "For example, calculating the average height of students\n",
    "in a class.\n",
    "Inferential statistics makes inferences and generalizations\n",
    "about populations based on sample data. For example, determining\n",
    "if there is a significant difference in test scores between two \n",
    "groups of students.\n",
    "\"\"\""
   ]
  },
  {
   "cell_type": "code",
   "execution_count": 13,
   "id": "c51ae4f3-73a6-46d2-a345-b5393b5a056f",
   "metadata": {
    "collapsed": true,
    "jupyter": {
     "outputs_hidden": true
    },
    "tags": []
   },
   "outputs": [
    {
     "data": {
      "text/plain": [
       "' Measures of central tendency:\\n\\nMean: Average value of the dataset, sensitive to extreme values.\\nMedian: Middle value when the dataset is arranged in order, robust to extreme values.\\nMode: Most frequently occurring value in the dataset.\\nMeasures of variability:\\n\\nRange: Difference between the maximum and minimum values, provides an idea of the spread.\\nVariance: Average squared deviation from the mean, measures the dispersion of data.\\nStandard Deviation: Square root of the variance, measures the average deviation from the \\nmean and is commonly used.\\nThese measures help summarize and describe datasets by providing information about the \\ncenter, spread, and typical values\\xa0of\\xa0the\\xa0data.\\n'"
      ]
     },
     "execution_count": 13,
     "metadata": {},
     "output_type": "execute_result"
    }
   ],
   "source": [
    "#Question 10\n",
    "\"\"\" Measures of central tendency:\n",
    "\n",
    "Mean: Average value of the dataset, sensitive to extreme values.\n",
    "Median: Middle value when the dataset is arranged in order, robust to extreme values.\n",
    "Mode: Most frequently occurring value in the dataset.\n",
    "Measures of variability:\n",
    "\n",
    "Range: Difference between the maximum and minimum values, provides an idea of the spread.\n",
    "Variance: Average squared deviation from the mean, measures the dispersion of data.\n",
    "Standard Deviation: Square root of the variance, measures the average deviation from the \n",
    "mean and is commonly used.\n",
    "These measures help summarize and describe datasets by providing information about the \n",
    "center, spread, and typical values of the data.\n",
    "\"\"\""
   ]
  },
  {
   "cell_type": "code",
   "execution_count": null,
   "id": "1d3bc0ba-fd6b-471a-8f0c-34a2897d3380",
   "metadata": {},
   "outputs": [],
   "source": []
  }
 ],
 "metadata": {
  "kernelspec": {
   "display_name": "Python 3 (ipykernel)",
   "language": "python",
   "name": "python3"
  },
  "language_info": {
   "codemirror_mode": {
    "name": "ipython",
    "version": 3
   },
   "file_extension": ".py",
   "mimetype": "text/x-python",
   "name": "python",
   "nbconvert_exporter": "python",
   "pygments_lexer": "ipython3",
   "version": "3.10.8"
  }
 },
 "nbformat": 4,
 "nbformat_minor": 5
}
