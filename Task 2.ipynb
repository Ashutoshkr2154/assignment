{
 "cells": [
  {
   "cell_type": "markdown",
   "id": "425153c6-db1e-435a-955e-129b51258036",
   "metadata": {},
   "source": [
    "Q1. You are writing code for a company. The requirement of the company is that you create a python\n",
    "function that will check whether the password entered by the user is correct or not. The function should\n",
    "take the password as input and return the string “Valid Password” if the entered password follows the\n",
    "below-given password guidelines else it should return “Invalid Password”.\n",
    "Note: \n",
    "\n",
    "1. The Password should contain at least two uppercase letters and at least two lowercase letters.\n",
    "\n",
    "2. The Password should contain at least a number and three special characters.\n",
    "3. The length of the password should be 10 characters long.\n",
    "\n"
   ]
  },
  {
   "cell_type": "code",
   "execution_count": 3,
   "id": "69646d63-8a04-4bfd-9902-f981b4986195",
   "metadata": {},
   "outputs": [
    {
     "name": "stdin",
     "output_type": "stream",
     "text": [
      "Enter your password : #AShu@2*54\n"
     ]
    },
    {
     "name": "stdout",
     "output_type": "stream",
     "text": [
      "Valid Password\n"
     ]
    }
   ],
   "source": [
    "import re # here re is regular expressions\n",
    "\n",
    "def check_password(password):\n",
    "    if len (password) !=10:\n",
    "        return \"invalid password\"\n",
    "    uppercase_count = sum(1 for char in password if char .isupper())\n",
    "    \n",
    "    lowercase_count = sum(1 for char in password if char.islower())\n",
    "    \n",
    "    digit_count = sum (1 for char in password if char.isdigit())\n",
    "    \n",
    "    special_char_count= len (re.findall (r'[!@#$%^&*():\"<>|]',password))\n",
    "    \n",
    "    if uppercase_count>=2 and lowercase_count >=2 and digit_count >=1 and special_char_count >=3:\n",
    "        \n",
    "        return \"Valid Password\"\n",
    "    else:\n",
    "        return \"Invalid password\"\n",
    "    \n",
    "user_password= input (\"Enter your password :\")\n",
    "result = check_password(user_password)\n",
    "print(result)"
   ]
  },
  {
   "cell_type": "markdown",
   "id": "a3429dad-7562-40bb-8b0e-64da5745e287",
   "metadata": {},
   "source": [
    "1.Check if the string starts with a particular letterY"
   ]
  },
  {
   "cell_type": "code",
   "execution_count": 4,
   "id": "cfe2861f-cfdf-4448-89d8-aa8e1002ad36",
   "metadata": {},
   "outputs": [
    {
     "name": "stdout",
     "output_type": "stream",
     "text": [
      "True\n"
     ]
    }
   ],
   "source": [
    "string = lambda s , letter :s.startswith(letter)\n",
    "\n",
    "result = string(\"Hello, world!\", \"H\")\n",
    "print(result)"
   ]
  },
  {
   "cell_type": "markdown",
   "id": "73e58fd6-216f-4eaa-bea4-4b97acc40534",
   "metadata": {},
   "source": [
    "2. Check if the string is numeric "
   ]
  },
  {
   "cell_type": "code",
   "execution_count": 8,
   "id": "d03f0d5c-f842-4cc5-9b08-e6414743c225",
   "metadata": {},
   "outputs": [
    {
     "name": "stdout",
     "output_type": "stream",
     "text": [
      "True\n"
     ]
    }
   ],
   "source": [
    "string = lambda s : s.isnumeric ()\n",
    "result =string (\"12344\")\n",
    "print(result)"
   ]
  },
  {
   "cell_type": "markdown",
   "id": "753af2c5-5a94-433a-bc61-2851d64bc040",
   "metadata": {},
   "source": [
    " 3 .Sort a list of tuples having fruit names and their quantity:[(\"mango\", 99), (\"orange\", 80), (\"grapes\", 1000)]"
   ]
  },
  {
   "cell_type": "code",
   "execution_count": 14,
   "id": "058868e6-9be9-4f8c-9b2c-9501972388d8",
   "metadata": {},
   "outputs": [
    {
     "name": "stdout",
     "output_type": "stream",
     "text": [
      "[('orange', 80), ('mango', 99), ('grapes', 1000)]\n"
     ]
    }
   ],
   "source": [
    "fruits_quantity =  [(\"mango\", 99), (\"orange\", 80), (\"grapes\", 1000)]\n",
    "sort =sorted(fruits_quantity , key =lambda x:x[1])\n",
    "print(sort)"
   ]
  },
  {
   "cell_type": "markdown",
   "id": "5bd1d3e7-2221-4de9-b0b1-c8b4efe57249",
   "metadata": {},
   "source": [
    "4.Find the squares of numbers from 1 to 10:"
   ]
  },
  {
   "cell_type": "code",
   "execution_count": 15,
   "id": "c2e36713-89e7-4096-8ae2-cfe193f95129",
   "metadata": {},
   "outputs": [
    {
     "name": "stdout",
     "output_type": "stream",
     "text": [
      "[1, 4, 9, 16, 25, 36, 49, 64, 81, 100]\n"
     ]
    }
   ],
   "source": [
    "squares = [x**2 for x in range (1,11)]\n",
    "print(squares)"
   ]
  },
  {
   "cell_type": "markdown",
   "id": "cce85838-2ba8-4af0-8b59-c59a29d41662",
   "metadata": {},
   "source": [
    "5 . Find the cube root of numbers from 1 to 10:"
   ]
  },
  {
   "cell_type": "code",
   "execution_count": 16,
   "id": "9fcb248a-e4d1-4a50-8681-43e5ff5f800b",
   "metadata": {},
   "outputs": [
    {
     "name": "stdout",
     "output_type": "stream",
     "text": [
      "[1.0, 1.26, 1.44, 1.59, 1.71, 1.82, 1.91, 2.0, 2.08, 2.15]\n"
     ]
    }
   ],
   "source": [
    "import math \n",
    "cube_roots =[round (math.pow(x,1/3),2)for x in range (1,11)]\n",
    "\n",
    "print(cube_roots)"
   ]
  },
  {
   "cell_type": "markdown",
   "id": "11312668-b404-4ec8-8f8e-e06d4750fc72",
   "metadata": {},
   "source": [
    "5.Check if a given number is even :"
   ]
  },
  {
   "cell_type": "code",
   "execution_count": 18,
   "id": "c714ffdd-eb86-4a44-b771-be33dee437f1",
   "metadata": {},
   "outputs": [
    {
     "name": "stdout",
     "output_type": "stream",
     "text": [
      "True\n"
     ]
    }
   ],
   "source": [
    "is_even = lambda x: x%2 ==0 \n",
    "\n",
    "result= is_even(8)\n",
    "print(result)"
   ]
  },
  {
   "cell_type": "markdown",
   "id": "acbc195d-6e63-4e93-ac3d-fd1df1fb9da1",
   "metadata": {},
   "source": [
    "6.Filter odd numbers from the given list:"
   ]
  },
  {
   "cell_type": "code",
   "execution_count": 20,
   "id": "18f54b33-e5c4-4819-8d63-fb0f5ec768c3",
   "metadata": {},
   "outputs": [
    {
     "name": "stdout",
     "output_type": "stream",
     "text": [
      "[1, 3, 5, 7, 9]\n"
     ]
    }
   ],
   "source": [
    "numbers =[1,2,3,4,5,6,7,8,9,10]\n",
    "odd_numbers =list(filter (lambda x: x%2 != 0 , numbers))\n",
    "print(odd_numbers)"
   ]
  },
  {
   "cell_type": "markdown",
   "id": "2cefb24e-6c3e-40a2-9a23-8c843cb98c58",
   "metadata": {},
   "source": [
    "7.Sort a list of integers into positive and negative integers lists:"
   ]
  },
  {
   "cell_type": "code",
   "execution_count": 1,
   "id": "a032dda2-acef-4477-8083-464d96f79011",
   "metadata": {},
   "outputs": [
    {
     "name": "stdout",
     "output_type": "stream",
     "text": [
      "Positive integers : [1, 2, 3, 4, 5, 6]\n",
      "Negative Integers : [-1, -2, -3, -4, -5]\n"
     ]
    }
   ],
   "source": [
    "integers = [1, 2, 3, 4, 5, 6, -1, -2, -3, -4, -5, 0]\n",
    "positive_integers = list(filter(lambda x: x>0 , integers))\n",
    "negative_integers = list(filter (lambda x : x<0 , integers))\n",
    "\n",
    "print(\"Positive integers :\", positive_integers)\n",
    "print(\"Negative Integers :\" , negative_integers)"
   ]
  },
  {
   "cell_type": "code",
   "execution_count": null,
   "id": "f2c90e55-113e-4cf8-93c2-5117ff5ded1d",
   "metadata": {},
   "outputs": [],
   "source": []
  }
 ],
 "metadata": {
  "kernelspec": {
   "display_name": "Python 3 (ipykernel)",
   "language": "python",
   "name": "python3"
  },
  "language_info": {
   "codemirror_mode": {
    "name": "ipython",
    "version": 3
   },
   "file_extension": ".py",
   "mimetype": "text/x-python",
   "name": "python",
   "nbconvert_exporter": "python",
   "pygments_lexer": "ipython3",
   "version": "3.10.8"
  }
 },
 "nbformat": 4,
 "nbformat_minor": 5
}
