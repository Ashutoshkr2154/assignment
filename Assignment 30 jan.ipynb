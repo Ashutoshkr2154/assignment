{
 "cells": [
  {
   "cell_type": "markdown",
   "id": "170ca5d8-5c07-4ca5-b854-a39e3b8e15a3",
   "metadata": {},
   "source": [
    "### Assignment "
   ]
  },
  {
   "cell_type": "markdown",
   "id": "33737fb6-1db7-4c33-8fef-e90141ff2a45",
   "metadata": {},
   "source": [
    "1.Write a program to accept percentage from the user and display the grade according to the criteria ."
   ]
  },
  {
   "cell_type": "code",
   "execution_count": 1,
   "id": "c1f3bf91-4efa-48f3-b656-3da09f0abe51",
   "metadata": {},
   "outputs": [
    {
     "name": "stdin",
     "output_type": "stream",
     "text": [
      "enter the percentage: 90\n"
     ]
    },
    {
     "name": "stdout",
     "output_type": "stream",
     "text": [
      "grade :B\n"
     ]
    }
   ],
   "source": [
    "def calculate_grade (percentage):\n",
    "    if percentage >90:\n",
    "        return 'A'\n",
    "    elif percentage >80:\n",
    "        return 'B'\n",
    "    elif percentage >=60:\n",
    "        return 'C'\n",
    "    else:\n",
    "        return 'D'\n",
    "def main():\n",
    "    try:\n",
    "        percentage= float (input(\"enter the percentage:\"))\n",
    "        if 0<=percentage <= 100:\n",
    "            grade = calculate_grade(percentage)\n",
    "            print (f\"grade :{grade}\")\n",
    "        else :\n",
    "            print (\"Invalid percentage . Please enter a value between 1 and 100\")\n",
    "    except ValueError:\n",
    "        print('Invalid input .Please enter a numeric value ')\n",
    "        \n",
    "if __name__ == \"__main__\":\n",
    "    main()\n",
    "    "
   ]
  },
  {
   "cell_type": "markdown",
   "id": "79c8657c-f7d6-4e9c-99bf-03c43772b778",
   "metadata": {},
   "source": [
    "2.Write a program to accept thr cost price of a bike and display the road tax to be paid according to the criteria ."
   ]
  },
  {
   "cell_type": "code",
   "execution_count": 2,
   "id": "0ee9d281-957f-4cc1-a57a-a58a659a0ab7",
   "metadata": {},
   "outputs": [
    {
     "name": "stdin",
     "output_type": "stream",
     "text": [
      "Enter the cost price of the bike  50000\n"
     ]
    },
    {
     "name": "stdout",
     "output_type": "stream",
     "text": [
      "Road Tax to be paid : Rs.2500.000000\n"
     ]
    }
   ],
   "source": [
    "def calculate_road_tax (cost_price):\n",
    "    if cost_price >100000:\n",
    "        return 0.15 * cost_price \n",
    "    elif cost_price >50000:\n",
    "        return 0.10 * cost_price\n",
    "    else:\n",
    "        return 0.05 * cost_price\n",
    "    \n",
    "def main():\n",
    "    try:\n",
    "        cost_price = float(input(\"Enter the cost price of the bike \"))\n",
    "        \n",
    "        if cost_price >=0:\n",
    "            road_tax = calculate_road_tax(cost_price)\n",
    "            print(f\"Road Tax to be paid : Rs.{road_tax:2f}\")\n",
    "        else:\n",
    "            print(\"Invalid cost price .Please enter a non-negative value . \")\n",
    "    except ValueError:\n",
    "        print (\"Invalid input . Please enter a valid numeric value \")\n",
    "        \n",
    "if __name__ == \"__main__\":\n",
    "    main()\n",
    "        "
   ]
  },
  {
   "cell_type": "markdown",
   "id": "3d3b2fba-1882-49fa-a01b-daf8dda4e01c",
   "metadata": {},
   "source": [
    "3. Accept any city from the user and display monuments of that city ."
   ]
  },
  {
   "cell_type": "code",
   "execution_count": 3,
   "id": "34825a7f-5a97-49da-a16c-0a2272420177",
   "metadata": {},
   "outputs": [
    {
     "name": "stdin",
     "output_type": "stream",
     "text": [
      "Enter the name of the city  delhi\n"
     ]
    },
    {
     "name": "stdout",
     "output_type": "stream",
     "text": [
      "Monument in Delhi :Red fort \n"
     ]
    }
   ],
   "source": [
    "city = input ('Enter the name of the city ')\n",
    "\n",
    "if city .lower() == 'delhi':\n",
    "    print('Monument in Delhi :Red fort ')\n",
    "elif city.lower()== 'agra ':\n",
    "    print('Monumnet in Agra :Taj Mahal ')\n",
    "elif city.lower() == 'jaipur ':\n",
    "    print(\"Monument in Jaipur :Jal Mahal\")\n",
    "else:\n",
    "    print(\"Monument information not available for the entered city\")"
   ]
  },
  {
   "cell_type": "markdown",
   "id": "e6b7c467-d491-4307-9756-d50c58b8f747",
   "metadata": {},
   "source": [
    "4. Check how many times a given number can be divided by 3 before it is less than or equal to 10 .\n"
   ]
  },
  {
   "cell_type": "code",
   "execution_count": 4,
   "id": "aa1be44d-6c38-4b0e-ad41-4b449f91e594",
   "metadata": {},
   "outputs": [
    {
     "name": "stdout",
     "output_type": "stream",
     "text": [
      "The given number 81 can be divided by 3 2 times before it is less than or equal to 10.\n"
     ]
    }
   ],
   "source": [
    "def count_divisions_by_three(number):\n",
    "    count = 0\n",
    "\n",
    "    while number > 10:\n",
    "        number /= 3\n",
    "        count += 1\n",
    "\n",
    "    return count\n",
    "given_number = 81\n",
    "result = count_divisions_by_three(given_number)\n",
    "\n",
    "print(f\"The given number {given_number} can be divided by 3 {result} times before it is less than or equal to 10.\")\n"
   ]
  },
  {
   "cell_type": "markdown",
   "id": "c59727f7-375c-4a86-b2ab-132a6244d22b",
   "metadata": {},
   "source": [
    "5  .why and when to use while loop in detailed description with example."
   ]
  },
  {
   "cell_type": "raw",
   "id": "d9f74871-cbc7-420d-8a84-97b894ffe625",
   "metadata": {},
   "source": [
    "A 'while' loop in python is used when you want to repeatedly execute block of code as long as a particular condition is true .The loop continues to execute until the condition becomes false.\n",
    "\n",
    "uses of while loop are:-\n",
    "i)unknown iteration count:-\n",
    "When the number of iteration is not known before hand and depends on a certain condition .\n",
    "ii)continuous Execution:-\n",
    "When you want to continuously execute a block of code as long as specific condition holds true .\n"
   ]
  },
  {
   "cell_type": "code",
   "execution_count": 5,
   "id": "9234cc27-71fd-4189-927b-181cd333313d",
   "metadata": {},
   "outputs": [
    {
     "name": "stdout",
     "output_type": "stream",
     "text": [
      "1\n",
      "2\n",
      "3\n",
      "4\n",
      "5\n"
     ]
    }
   ],
   "source": [
    "## Example of while loop.\n",
    "counter =1\n",
    "while counter <=5:\n",
    "    print(counter)\n",
    "    counter +=1"
   ]
  },
  {
   "cell_type": "markdown",
   "id": "d7ee2aa0-0faa-48cc-85d8-07d8e0c5e2f1",
   "metadata": {},
   "source": [
    "Q 6. use nested while loop to print 3 different patterns\n"
   ]
  },
  {
   "cell_type": "code",
   "execution_count": 6,
   "id": "7b7d1bfe-9141-41a0-86a0-6f8a3eb9fdb8",
   "metadata": {},
   "outputs": [
    {
     "name": "stdout",
     "output_type": "stream",
     "text": [
      "*\n",
      "**\n",
      "***\n",
      "****\n",
      "*****\n"
     ]
    }
   ],
   "source": [
    "row =1 \n",
    "while row <= 5 :\n",
    "    col = 1 \n",
    "    while col<=row :\n",
    "        print(\"*\",end=\"\")\n",
    "        col += 1\n",
    "    print()\n",
    "    row +=1"
   ]
  },
  {
   "cell_type": "code",
   "execution_count": 7,
   "id": "a326a15f-de63-40ec-972f-114c3d1c7630",
   "metadata": {},
   "outputs": [
    {
     "name": "stdout",
     "output_type": "stream",
     "text": [
      "* * * * * \n",
      "* * * * \n",
      "* * * \n",
      "* * \n",
      "* \n"
     ]
    }
   ],
   "source": [
    "row = 5\n",
    "\n",
    "while row > 0:\n",
    "    col = 1\n",
    "    while col <= row:\n",
    "        print(\"*\", end=\" \")\n",
    "        col += 1\n",
    "    print()\n",
    "    row -= 1\n"
   ]
  },
  {
   "cell_type": "code",
   "execution_count": 11,
   "id": "c1a5f956-f922-4bb2-ad47-cded0f4b308d",
   "metadata": {},
   "outputs": [
    {
     "name": "stdout",
     "output_type": "stream",
     "text": [
      "        * \n",
      "      * * * \n",
      "    * * * * * \n",
      "  * * * * * * * \n",
      "* * * * * * * * * \n"
     ]
    }
   ],
   "source": [
    "rows =5 \n",
    "i=1\n",
    "\n",
    "while i<= rows:\n",
    "    spaces = row -i\n",
    "    while spaces >0:\n",
    "        print(\" \", end =\" \")\n",
    "        spaces -=1\n",
    "    j=1 \n",
    "    while j<=(2*i-1):\n",
    "        print (\"*\" , end =\" \")\n",
    "        j+=1\n",
    "        \n",
    "    print()\n",
    "    i +=1\n",
    "    "
   ]
  },
  {
   "cell_type": "markdown",
   "id": "c9440db0-8bb2-4880-ae80-8b70199ef4ef",
   "metadata": {},
   "source": [
    "7. Reverse a while loop to print numbers from 10 to 1.\n"
   ]
  },
  {
   "cell_type": "code",
   "execution_count": null,
   "id": "d52ab743-d4d8-4af3-87e0-6bb1d3162de4",
   "metadata": {},
   "outputs": [],
   "source": [
    "num =10 \n",
    "while num >=1:\n",
    "    print"
   ]
  }
 ],
 "metadata": {
  "kernelspec": {
   "display_name": "Python 3 (ipykernel)",
   "language": "python",
   "name": "python3"
  },
  "language_info": {
   "codemirror_mode": {
    "name": "ipython",
    "version": 3
   },
   "file_extension": ".py",
   "mimetype": "text/x-python",
   "name": "python",
   "nbconvert_exporter": "python",
   "pygments_lexer": "ipython3",
   "version": "3.10.8"
  }
 },
 "nbformat": 4,
 "nbformat_minor": 5
}
