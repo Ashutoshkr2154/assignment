{
 "cells": [
  {
   "cell_type": "markdown",
   "id": "f4965a93-73ed-4d7e-88a1-2759f74d16ea",
   "metadata": {},
   "source": [
    "Q1. How can you create a Bokeh plot using Python code?"
   ]
  },
  {
   "cell_type": "code",
   "execution_count": 1,
   "id": "5df745bf-ce4b-4ab6-bef5-df59587f17de",
   "metadata": {
    "collapsed": true,
    "jupyter": {
     "outputs_hidden": true
    },
    "tags": []
   },
   "outputs": [
    {
     "name": "stdout",
     "output_type": "stream",
     "text": [
      "Requirement already satisfied: bokeh in /opt/conda/lib/python3.10/site-packages (3.0.3)\n",
      "Requirement already satisfied: PyYAML>=3.10 in /opt/conda/lib/python3.10/site-packages (from bokeh) (6.0)\n",
      "Requirement already satisfied: Jinja2>=2.9 in /opt/conda/lib/python3.10/site-packages (from bokeh) (3.1.2)\n",
      "Requirement already satisfied: numpy>=1.11.3 in /opt/conda/lib/python3.10/site-packages (from bokeh) (1.23.5)\n",
      "Requirement already satisfied: packaging>=16.8 in /opt/conda/lib/python3.10/site-packages (from bokeh) (22.0)\n",
      "Requirement already satisfied: xyzservices>=2021.09.1 in /opt/conda/lib/python3.10/site-packages (from bokeh) (2022.9.0)\n",
      "Requirement already satisfied: contourpy>=1 in /opt/conda/lib/python3.10/site-packages (from bokeh) (1.0.6)\n",
      "Requirement already satisfied: pandas>=1.2 in /opt/conda/lib/python3.10/site-packages (from bokeh) (1.5.2)\n",
      "Requirement already satisfied: tornado>=5.1 in /opt/conda/lib/python3.10/site-packages (from bokeh) (6.1)\n",
      "Requirement already satisfied: pillow>=7.1.0 in /opt/conda/lib/python3.10/site-packages (from bokeh) (9.2.0)\n",
      "Requirement already satisfied: MarkupSafe>=2.0 in /opt/conda/lib/python3.10/site-packages (from Jinja2>=2.9->bokeh) (2.1.1)\n",
      "Requirement already satisfied: python-dateutil>=2.8.1 in /opt/conda/lib/python3.10/site-packages (from pandas>=1.2->bokeh) (2.8.2)\n",
      "Requirement already satisfied: pytz>=2020.1 in /opt/conda/lib/python3.10/site-packages (from pandas>=1.2->bokeh) (2022.6)\n",
      "Requirement already satisfied: six>=1.5 in /opt/conda/lib/python3.10/site-packages (from python-dateutil>=2.8.1->pandas>=1.2->bokeh) (1.16.0)\n",
      "Note: you may need to restart the kernel to use updated packages.\n"
     ]
    }
   ],
   "source": [
    "pip install bokeh\n"
   ]
  },
  {
   "cell_type": "code",
   "execution_count": 2,
   "id": "f51d60d0-9bd4-460c-96f7-28b678c80223",
   "metadata": {},
   "outputs": [],
   "source": [
    "from bokeh.plotting import figure , output_file , show \n",
    "\n",
    "x = [1,2,3,4,5]\n",
    "y = [6,7,8,9,10]\n",
    "\n",
    "p = figure(title = \"Simple Line Plot\" , x_axis_label ='x' , y_axis_label ='y')\n",
    "p.line (x, y, legend_label =\" Line\" , line_width =2 )\n",
    "\n",
    "output_file (\"line_plot.html\")\n",
    "show(p)"
   ]
  },
  {
   "cell_type": "markdown",
   "id": "d7e8f793-acb8-4d1b-bfe5-d5776c6d40c7",
   "metadata": {},
   "source": [
    "Q2. What are glyphs in Bokeh, and how can you add them to a Bokeh plot? Explain with an example."
   ]
  },
  {
   "cell_type": "markdown",
   "id": "bc862b29-9833-4844-8e3f-5c7c3578e459",
   "metadata": {},
   "source": [
    "In Bokeh , glyphs are visual markers or shapes that represent data points on a plot . They can include , circles , squares , bars , patches etc . Glyphs are added to a Bokeh plot visually represent the data in different ways .\n",
    "\n",
    "To add glyphs to a Bokeh plot , we typically use glyph methods provided by \n",
    "Bokeh's plotting interface . These methods  allows us to specify the type of glyph we want to add (eg: line () , circle() , square() , bar() , etc . ) and pass the data coordinate and any additional attributes to customize the appearence of the glyph ."
   ]
  },
  {
   "cell_type": "code",
   "execution_count": 3,
   "id": "2e4db17f-0ec6-4f9b-8db8-e11cad36df06",
   "metadata": {},
   "outputs": [],
   "source": [
    "from bokeh.plotting import figure , output_file , show \n",
    "\n",
    "x  = [1,2,3,4,5]\n",
    "y = [6,7,2,4,5]\n",
    "\n",
    "p = figure(title= \"Glyphs Example \" , x_axis_label = 'x' , y_axis_label = 'y')\n",
    "\n",
    "p.line(x, y , legend_label =\"Line\" , line_width = 2 )\n",
    "p.circle(x , y , legend_label = \"Circle\" , fill_color = \"white \"  , size = 8) \n",
    "\n",
    "output_file(\"glyphs_example.html\")\n",
    "show(p)"
   ]
  },
  {
   "cell_type": "markdown",
   "id": "31bf0a84-8745-40b5-aaff-832e2673b0b5",
   "metadata": {},
   "source": [
    "In this example :\n",
    "- We import the necessary modules from Bokeh \n",
    "- we prepare some sample data ('x' , 'y' , cordinates) to visualize.\n",
    "- We Create a Bokeh figure 'p' with a title and axis labels .\n",
    "- We create a Bokeh figure using the 'line()' and 'circle()' methods adds circle glyphs at each point . We customize the appearence of the glyphs by specifying attributes like line width , fill color , and size .\n",
    "- Finally , we save the plot as an HTML file and display it in a browser using the 'show()' fuction .\n",
    "\n",
    " In this way , we can add differents types of glyphs to a Bokeh plot to represent us data in various ways , making our visualizations more informative and engaging ."
   ]
  },
  {
   "cell_type": "markdown",
   "id": "323d6321-6751-4456-96d3-248e850ba995",
   "metadata": {},
   "source": [
    "Q3. How can you customize the appearance of a Bokeh plot, including the axes, title, and legend?"
   ]
  },
  {
   "cell_type": "markdown",
   "id": "ee9aa5b9-03c2-4b06-bbed-cb0e1fc71b8f",
   "metadata": {},
   "source": [
    "we can customize various aspects of a bokeh plot , including the axes , title , legend colors , line styles , markers , and more . Bokeh provides a wide range of customization options to make our plots visually appealing and informative .Here's how we can customize different components of a Bokeh plot .\n",
    "\n",
    "1. Title and Axis labels :\n",
    "- we can set the title of the plot using the ' title ' property of the figure objects .\n",
    "- We can add labels to the x-axis and y-axis using the 'x_axis_label' and 'y-axis_label' properties of the figure objects .\n",
    "\n",
    "2.Axis Ticks and Grid Lines:\n",
    "\n",
    "- we can customize the appearance of axis ticks and grid lines using properties like major_label_text_font, axis_label_text_font, axis_label_text_color, major_tick_line_color, minor_tick_line_color, etc.\n",
    "3.Legend:\n",
    "\n",
    "- You can add a legend to the plot using the legend property of the glyph methods (line(), circle(), etc.).\n",
    "- You can customize the appearance of the legend, including its position, orientation, background color, border line color, text font, text color, etc.\n",
    "4.Plot Background:\n",
    "\n",
    "- You can customize the background color of the plot using the background_fill_color property of the figure object.\n",
    "- You can add a background fill color to the plot area using the plot.background_fill_color property.\n",
    "5.Plot Border:\n",
    "\n",
    "- You can add a border line to the plot using the outline_line_color property of the figure object.\n",
    "- You can customize the line width and line style of the plot border using properties like outline_line_width and outline_line_dash.\n",
    "6.Line and Marker Properties:\n",
    "\n",
    "- You can customize the appearance of lines and markers (glyphs) using properties like line_color, line_width, line_alpha, line_dash, fill_color, fill_alpha, size, marker, etc."
   ]
  },
  {
   "cell_type": "code",
   "execution_count": 6,
   "id": "cda170c8-c8b1-48b4-826b-474c8d36d23d",
   "metadata": {},
   "outputs": [],
   "source": [
    "from bokeh.plotting import figure, output_file, show\n",
    "\n",
    "# Prepare Data\n",
    "x = [1, 2, 3, 4, 5]\n",
    "y = [6, 7, 2, 4, 5]\n",
    "\n",
    "# Create a Figure\n",
    "p = figure(title=\"Customizing Bokeh Plot\", x_axis_label='X-axis', y_axis_label='Y-axis',\n",
    "           background_fill_color='lightgray', width=600, height=400,\n",
    "           tools='pan,box_zoom,reset,save')\n",
    "\n",
    "# Add Glyphs\n",
    "p.line(x, y, legend_label=\"Line\", line_width=2, line_color='blue')\n",
    "p.circle(x, y, legend_label=\"Circle\", fill_color=\"red\", size=8)\n",
    "\n",
    "# Customize Axes\n",
    "p.xaxis.axis_label_text_font_style = \"italic\"\n",
    "p.yaxis.axis_label_text_font_style = \"italic\"\n",
    "\n",
    "# Customize Legend\n",
    "p.legend.location = \"top_left\"\n",
    "p.legend.label_text_font = \"times\"\n",
    "p.legend.label_text_color = \"navy\"\n",
    "p.legend.label_text_font_style = \"bold\"\n",
    "p.legend.border_line_color = \"black\"\n",
    "p.legend.background_fill_color = \"lightyellow\"\n",
    "\n",
    "# Show or Save the Plot\n",
    "output_file(\"customized_plot.html\")  # Save plot as an HTML file\n",
    "show(p)  # Open the plot in a browser\n"
   ]
  },
  {
   "cell_type": "markdown",
   "id": "47f4560c-b298-415a-b863-c58a2376a881",
   "metadata": {},
   "source": [
    "Q4. What is a Bokeh server, and how can you use it to create interactive plots that can be updated in\n",
    "real time?"
   ]
  },
  {
   "cell_type": "markdown",
   "id": "0ccfe97b-9fe7-4072-ac2b-0fadea9d3d11",
   "metadata": {},
   "source": [
    "Bokeh server is a component of the Bokeh library that allows you to build interactive web applications and dashboards with Python. It enables you to create dynamic and interactive plots that can be updated in real time based on user interactions or changes in data without needing to regenerate the entire plot or reload the page.\n",
    "\n",
    "Here's how Bokeh server works and how you can use it to create interactive plots:\n",
    "\n",
    "Architecture: Bokeh server operates as a standalone Python process that communicates with the Bokeh JavaScript library running in the browser. When you run a Bokeh server application, it starts a Tornado web server and serves your Bokeh plots and applications to web browsers.\n",
    "\n",
    "Server Applications: You can create Bokeh server applications by defining Python scripts or modules that include Bokeh plots and widgets. These applications can handle user interactions, events, and updates dynamically on the server side.\n",
    "\n",
    "Interactive Plots: Bokeh server allows you to create interactive plots with widgets such as sliders, buttons, dropdowns, etc., that users can interact with to modify the plot or update the data. These widgets can trigger callbacks, which are Python functions that execute in response to user actions, to update the plot dynamically.\n",
    "\n",
    "Real-Time Updates: Bokeh server applications can listen for changes in data sources or external triggers and update the plots in real time without requiring the user to refresh the page. This enables real-time monitoring, data streaming, and live updates of visualizations.\n",
    "\n",
    "Deployment: Bokeh server applications can be deployed on a variety of platforms, including local servers, cloud platforms, and containers. You can deploy Bokeh server applications as standalone apps, embed them in larger web applications, or integrate them with other web frameworks like Flask or Django."
   ]
  },
  {
   "cell_type": "code",
   "execution_count": 8,
   "id": "d696b267-a0a2-44b9-baf5-2cdf29b888a5",
   "metadata": {},
   "outputs": [],
   "source": [
    "from bokeh.plotting import figure, curdoc\n",
    "from bokeh.models import ColumnDataSource\n",
    "from bokeh.layouts import column\n",
    "import numpy as np\n",
    "\n",
    "# Create a ColumnDataSource\n",
    "source = ColumnDataSource(data=dict(x=[], y=[]))\n",
    "\n",
    "# Create a plot\n",
    "plot = figure(height=300, width=600, title=\"Dynamic Plot\", toolbar_location=None)\n",
    "plot.line(x='x', y='y', source=source)\n",
    "\n",
    "# Update function to update the data\n",
    "def update():\n",
    "    new_data = dict(x=np.linspace(0, 10, 100), y=np.random.randn(100))\n",
    "    source.data = new_data\n",
    "\n",
    "# Add a periodic callback to update the plot every 500 milliseconds\n",
    "curdoc().add_periodic_callback(update, 500)\n",
    "\n",
    "# Layout the plot and add to the current document\n",
    "curdoc().add_root(column(plot))\n"
   ]
  },
  {
   "cell_type": "markdown",
   "id": "770d95bb-fa6d-4b99-9e2a-317d6639d17b",
   "metadata": {},
   "source": [
    "Q5. How can you embed a Bokeh plot into a web page or dashboard using Flask or Django?"
   ]
  },
  {
   "cell_type": "markdown",
   "id": "2e6c760c-bd72-4bfe-b32e-532361339ca8",
   "metadata": {},
   "source": [
    "mbedding a Bokeh plot into a web page or dashboard using Flask or Django involves creating a web application that serves the Bokeh plot as a part of the HTML template. Here's a general overview of how you can achieve this using both Flask and Django:\n",
    "\n",
    "## Embedding Bokeh Plot with Flask:\n",
    "\n"
   ]
  },
  {
   "cell_type": "code",
   "execution_count": 9,
   "id": "ccee96fb-9da1-4924-97ae-790143b70bd6",
   "metadata": {
    "collapsed": true,
    "jupyter": {
     "outputs_hidden": true
    },
    "tags": []
   },
   "outputs": [
    {
     "name": "stdout",
     "output_type": "stream",
     "text": [
      "Collecting flask\n",
      "  Downloading flask-3.0.2-py3-none-any.whl (101 kB)\n",
      "\u001b[2K     \u001b[90m━━━━━━━━━━━━━━━━━━━━━━━━━━━━━━━━━━━━━━\u001b[0m \u001b[32m101.3/101.3 kB\u001b[0m \u001b[31m13.7 MB/s\u001b[0m eta \u001b[36m0:00:00\u001b[0m\n",
      "\u001b[?25hCollecting Werkzeug>=3.0.0\n",
      "  Downloading werkzeug-3.0.1-py3-none-any.whl (226 kB)\n",
      "\u001b[2K     \u001b[90m━━━━━━━━━━━━━━━━━━━━━━━━━━━━━━━━━━━━━━\u001b[0m \u001b[32m226.7/226.7 kB\u001b[0m \u001b[31m33.4 MB/s\u001b[0m eta \u001b[36m0:00:00\u001b[0m\n",
      "\u001b[?25hCollecting itsdangerous>=2.1.2\n",
      "  Downloading itsdangerous-2.1.2-py3-none-any.whl (15 kB)\n",
      "Requirement already satisfied: Jinja2>=3.1.2 in /opt/conda/lib/python3.10/site-packages (from flask) (3.1.2)\n",
      "Collecting blinker>=1.6.2\n",
      "  Downloading blinker-1.7.0-py3-none-any.whl (13 kB)\n",
      "Requirement already satisfied: click>=8.1.3 in /opt/conda/lib/python3.10/site-packages (from flask) (8.1.3)\n",
      "Requirement already satisfied: MarkupSafe>=2.0 in /opt/conda/lib/python3.10/site-packages (from Jinja2>=3.1.2->flask) (2.1.1)\n",
      "Installing collected packages: Werkzeug, itsdangerous, blinker, flask\n",
      "  Attempting uninstall: blinker\n",
      "    Found existing installation: blinker 1.5\n",
      "    Uninstalling blinker-1.5:\n",
      "      Successfully uninstalled blinker-1.5\n",
      "Successfully installed Werkzeug-3.0.1 blinker-1.7.0 flask-3.0.2 itsdangerous-2.1.2\n",
      "Note: you may need to restart the kernel to use updated packages.\n"
     ]
    }
   ],
   "source": [
    "pip install flask"
   ]
  },
  {
   "cell_type": "markdown",
   "id": "53ca624f-9c61-4b85-8ed0-a018fd24168e",
   "metadata": {},
   "source": [
    "Create Flask App: Create a Flask application by defining routes and templates.\n",
    "\n",
    "Generate Bokeh Plot: Generate the Bokeh plot within the Flask route function. You can follow the usual procedure for creating a Bokeh plot.\n",
    "\n",
    "Render Bokeh Plot in HTML Template: Pass the Bokeh plot as a script tag within the HTML template using the script and div components generated by Bokeh's components() function.\n",
    "\n",
    "Serve the Web Application: Run the Flask app, and you should be able to see the Bokeh plot embedded in the web page."
   ]
  },
  {
   "cell_type": "code",
   "execution_count": 2,
   "id": "09ad9d32-2c13-49b0-b9b2-bd4ec96cd31d",
   "metadata": {
    "collapsed": true,
    "jupyter": {
     "outputs_hidden": true
    },
    "tags": []
   },
   "outputs": [
    {
     "ename": "ModuleNotFoundError",
     "evalue": "No module named 'flask'",
     "output_type": "error",
     "traceback": [
      "\u001b[0;31m---------------------------------------------------------------------------\u001b[0m",
      "\u001b[0;31mModuleNotFoundError\u001b[0m                       Traceback (most recent call last)",
      "Cell \u001b[0;32mIn[2], line 1\u001b[0m\n\u001b[0;32m----> 1\u001b[0m \u001b[38;5;28;01mfrom\u001b[39;00m \u001b[38;5;21;01mflask\u001b[39;00m \u001b[38;5;28;01mimport\u001b[39;00m Flask , render_template \n\u001b[1;32m      2\u001b[0m \u001b[38;5;28;01mfrom\u001b[39;00m \u001b[38;5;21;01mbokeh\u001b[39;00m\u001b[38;5;21;01m.\u001b[39;00m\u001b[38;5;21;01mplotting\u001b[39;00m \u001b[38;5;28;01mimport\u001b[39;00m figure , output_file , show \n\u001b[1;32m      3\u001b[0m \u001b[38;5;28;01mfrom\u001b[39;00m \u001b[38;5;21;01mbokeh\u001b[39;00m\u001b[38;5;21;01m.\u001b[39;00m\u001b[38;5;21;01membed\u001b[39;00m \u001b[38;5;28;01mimport\u001b[39;00m components \n",
      "\u001b[0;31mModuleNotFoundError\u001b[0m: No module named 'flask'"
     ]
    }
   ],
   "source": [
    "from flask import Flask , render_template \n",
    "from bokeh.plotting import figure , output_file , show \n",
    "from bokeh.embed import components \n",
    "\n",
    "app = Flask(__name__)\n",
    "@app.route('/')\n",
    "\n",
    "def index():\n",
    "    plot = figure(title =\"Bokeh Plot\" , x_axis_label =\"X-axis\" , y_axis_label = 'Y-axis' )\n",
    "    plot.circle([1,2,3],[4,5,6])\n",
    "    \n",
    "    script, div = components(plot)\n",
    "    \n",
    "    return render_template('index.html' , script = script , div = div)\n",
    "\n",
    "if __name__ == '__main__':\n",
    "    app.run(debug= True )"
   ]
  },
  {
   "cell_type": "markdown",
   "id": "dd8e4fe9-359b-4ebe-89f6-00d8531253be",
   "metadata": {},
   "source": [
    "## Embedding Bokeh Plot with Django:\n",
    "Create Django Project: If you haven't already, create a Django project using django-admin command.\n",
    "\n",
    "Define Views and Templates: Define views that render HTML templates. Create HTML templates to display the Bokeh plot.\n",
    "\n",
    "Generate Bokeh Plot: Generate the Bokeh plot within the view function.\n",
    "\n",
    "Embed Bokeh Plot in HTML Template: Pass the Bokeh plot as a script tag within the HTML template using the script and div components generated by Bokeh's components() function.\n",
    "\n",
    "Serve the Web Application: Run the Django development server, and you should be able to see the Bokeh plot embedded in the web page."
   ]
  },
  {
   "cell_type": "code",
   "execution_count": 3,
   "id": "71dec432-3424-41cc-b0d6-206db4ebc62e",
   "metadata": {},
   "outputs": [
    {
     "ename": "ModuleNotFoundError",
     "evalue": "No module named 'django'",
     "output_type": "error",
     "traceback": [
      "\u001b[0;31m---------------------------------------------------------------------------\u001b[0m",
      "\u001b[0;31mModuleNotFoundError\u001b[0m                       Traceback (most recent call last)",
      "Cell \u001b[0;32mIn[3], line 2\u001b[0m\n\u001b[1;32m      1\u001b[0m \u001b[38;5;66;03m# views.py\u001b[39;00m\n\u001b[0;32m----> 2\u001b[0m \u001b[38;5;28;01mfrom\u001b[39;00m \u001b[38;5;21;01mdjango\u001b[39;00m\u001b[38;5;21;01m.\u001b[39;00m\u001b[38;5;21;01mshortcuts\u001b[39;00m \u001b[38;5;28;01mimport\u001b[39;00m render\n\u001b[1;32m      3\u001b[0m \u001b[38;5;28;01mfrom\u001b[39;00m \u001b[38;5;21;01mbokeh\u001b[39;00m\u001b[38;5;21;01m.\u001b[39;00m\u001b[38;5;21;01mplotting\u001b[39;00m \u001b[38;5;28;01mimport\u001b[39;00m figure, output_file, show\n\u001b[1;32m      4\u001b[0m \u001b[38;5;28;01mfrom\u001b[39;00m \u001b[38;5;21;01mbokeh\u001b[39;00m\u001b[38;5;21;01m.\u001b[39;00m\u001b[38;5;21;01membed\u001b[39;00m \u001b[38;5;28;01mimport\u001b[39;00m components\n",
      "\u001b[0;31mModuleNotFoundError\u001b[0m: No module named 'django'"
     ]
    }
   ],
   "source": [
    "# views.py\n",
    "from django.shortcuts import render\n",
    "from bokeh.plotting import figure, output_file, show\n",
    "from bokeh.embed import components\n",
    "\n",
    "def plot_view(request):\n",
    "    # Generate Bokeh plot\n",
    "    plot = figure(title=\"Bokeh Plot\", x_axis_label='X-axis', y_axis_label='Y-axis')\n",
    "    plot.circle([1, 2, 3], [4, 5, 6])\n",
    "\n",
    "    # Generate components\n",
    "    script, div = components(plot)\n",
    "\n",
    "    # Render HTML template with Bokeh plot embedded\n",
    "    return render(request, 'plot_template.html', {'script': script, 'div': div})\n"
   ]
  },
  {
   "cell_type": "code",
   "execution_count": null,
   "id": "dd1914d8-a469-4d5b-81b3-73b7d7883b95",
   "metadata": {},
   "outputs": [],
   "source": []
  }
 ],
 "metadata": {
  "kernelspec": {
   "display_name": "Python 3 (ipykernel)",
   "language": "python",
   "name": "python3"
  },
  "language_info": {
   "codemirror_mode": {
    "name": "ipython",
    "version": 3
   },
   "file_extension": ".py",
   "mimetype": "text/x-python",
   "name": "python",
   "nbconvert_exporter": "python",
   "pygments_lexer": "ipython3",
   "version": "3.10.8"
  }
 },
 "nbformat": 4,
 "nbformat_minor": 5
}
