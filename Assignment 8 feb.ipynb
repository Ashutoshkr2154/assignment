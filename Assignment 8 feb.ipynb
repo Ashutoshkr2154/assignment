{
 "cells": [
  {
   "cell_type": "markdown",
   "id": "ce514b26-2733-48f7-9815-55b6d731ca2a",
   "metadata": {},
   "source": [
    "Q1. What is Abstraction in OOps? Explain with an example."
   ]
  },
  {
   "cell_type": "markdown",
   "id": "58f6deb9-a0b0-4350-8174-37af48392853",
   "metadata": {},
   "source": [
    "Abstraction in oops is a concept that allows you to hide the complex implementation details of an object and only expose the essential features .It involves focusing on the essentail properties and behaviours of an object while ignoring the non essentail details.Abstraction helps in managing the complexity of a system by providing a simplified and high level view .\n",
    "\n",
    "\n",
    "In python , abstraction can be achieved through classes and abstract methods .An abstract class is a class that cannot be instatiated on its own and is meant to be subclassed by other classes .An abstract method is a method declared in an abstract class but has no implementation in the abstract class itself .Subclasses must provide an implementation for these abstract methods."
   ]
  },
  {
   "cell_type": "code",
   "execution_count": 4,
   "id": "10f4345e-cb93-43ac-8d0a-8f220aec0333",
   "metadata": {
    "tags": []
   },
   "outputs": [
    {
     "name": "stdout",
     "output_type": "stream",
     "text": [
      "Area 78.5\n",
      "perimeter: 31.400000000000002\n"
     ]
    }
   ],
   "source": [
    "from abc import ABC , abstractmethod \n",
    "\n",
    "class Shape (ABC):\n",
    "    def area (self ):\n",
    "        pass \n",
    "    def perimeter(self):\n",
    "        pass\n",
    "\n",
    "class Circle (Shape ):\n",
    "    def __init__ (self,radius ):\n",
    "        self.radius =radius \n",
    "        \n",
    "    def area (self):\n",
    "        return 3.14*self.radius**2\n",
    "    \n",
    "    def perimeter (self):\n",
    "        return 2*3.14*self.radius\n",
    "    \n",
    "circle =Circle(5)\n",
    "print(\"Area\", circle.area())\n",
    "print(\"perimeter:\", circle.perimeter())"
   ]
  },
  {
   "cell_type": "markdown",
   "id": "909b9969-8e9d-4a8c-9e21-62fca122f33b",
   "metadata": {},
   "source": [
    "Q2. Differentiate between Abstraction and Encapsulation. Explain with an example."
   ]
  },
  {
   "cell_type": "markdown",
   "id": "1c2817e3-4676-48a1-b164-d0bc56bb6dcd",
   "metadata": {},
   "source": [
    "Abstaction and encapsulation are two important principles in object oriented programing (oops) , but they address different aspects of software design .\n"
   ]
  },
  {
   "cell_type": "markdown",
   "id": "31f48ca9-1aaf-4a7e-af27-5ececf09f416",
   "metadata": {},
   "source": [
    "### Abstraction "
   ]
  },
  {
   "cell_type": "markdown",
   "id": "7df2e878-9727-45f6-863f-2c284ec8a5d2",
   "metadata": {},
   "source": [
    "Abstraction is the process of simplifying complex system by modeling based on their essential features , while ignoring non essential details .\n",
    "\n",
    "It helps in managing complexity by providing a high level view and focusing \n",
    "on what an object does rather than how it does it .\n",
    "\n",
    "It is archieved through abstract class , abstract methods , and interfaces .\n",
    "\n",
    "Example : "
   ]
  },
  {
   "cell_type": "code",
   "execution_count": 7,
   "id": "50c112a0-0b63-4f30-9a65-723481764256",
   "metadata": {
    "tags": []
   },
   "outputs": [
    {
     "name": "stdout",
     "output_type": "stream",
     "text": [
      "Area: 78.5\n",
      "perimeter: 31.400000000000002\n"
     ]
    }
   ],
   "source": [
    "from abc import ABC , abstractmethod \n",
    "\n",
    "class Shape (ABC):\n",
    "    def area(self):\n",
    "        pass\n",
    "    def perimeter (self):\n",
    "        pass\n",
    "    \n",
    "class Circle (Shape):\n",
    "    def __init__ (self , radius ):\n",
    "        self.radius = radius \n",
    "    \n",
    "    def area (self):\n",
    "        return 3.14*self.radius**2\n",
    "    \n",
    "    def perimeter(self):\n",
    "        return 2*3.14*self.radius\n",
    "    \n",
    "circle =Circle(5)\n",
    "\n",
    "print(\"Area:\" , circle.area())\n",
    "print (\"perimeter:\", circle.perimeter())"
   ]
  },
  {
   "cell_type": "markdown",
   "id": "5b879255-6241-4c3a-8fed-0cfb95e8ef50",
   "metadata": {},
   "source": [
    " ### Encapsulation"
   ]
  },
  {
   "cell_type": "markdown",
   "id": "f24abf76-1d80-4077-bb25-4705ba7b05fb",
   "metadata": {},
   "source": [
    "Encapsulation is the building of data and methods that operate on that data into a single unit , known as class .It restricts access to some of an object's components and prevents the accidental modification of data.\n",
    "\n",
    "It helps in data hiding , protecting the internal state of an object and allowing access through well defined interfaces (methods ).\n",
    "\n",
    "It is Archieved through access specifiers (eg. public private )and getter/setter methods .\n",
    "\n",
    "Example:"
   ]
  },
  {
   "cell_type": "code",
   "execution_count": 15,
   "id": "808b61c0-27e4-47fd-9467-bcf218d19cd8",
   "metadata": {},
   "outputs": [
    {
     "name": "stdout",
     "output_type": "stream",
     "text": [
      "Initial Balance: 1000\n",
      "Updated Balance: 1300\n"
     ]
    }
   ],
   "source": [
    "class BankAccount:\n",
    "    def __init__(self, balance):\n",
    "        self.__balance = balance  \n",
    "\n",
    "    def get_balance(self):\n",
    "        return self.__balance\n",
    "\n",
    "    def deposit(self, amount):\n",
    "        if amount > 0:\n",
    "            self.__balance += amount\n",
    "\n",
    "    def withdraw(self, amount):\n",
    "        if 0 < amount <= self.__balance:\n",
    "            self.__balance -= amount\n",
    "\n",
    "account = BankAccount(1000)\n",
    "\n",
    "print(\"Initial Balance:\", account.get_balance())\n",
    "\n",
    "account.deposit(500)\n",
    "account.withdraw(200)\n",
    "print(\"Updated Balance:\", account.get_balance())\n"
   ]
  },
  {
   "cell_type": "markdown",
   "id": "ea654e2d-567d-47bf-ba7a-6c50731ca057",
   "metadata": {},
   "source": [
    "Q3. What is abc module in python? Why is it used?"
   ]
  },
  {
   "cell_type": "markdown",
   "id": "382dd2e7-be62-4533-b04d-c548d8038e1a",
   "metadata": {},
   "source": [
    "The abc module in python stands for \"Abstract Base classes .\" It provides the infrstructure for defining abstract base classes in python .Abstract base classes (ABCs) are a way to define interfaces and establish in common structure for a group of related classes without providing a concrete implementation for every method .\n",
    "This module is a part of the standard library , and its main purpose is to support abstract classes and abstract methods .\n"
   ]
  },
  {
   "cell_type": "markdown",
   "id": "3d2640d6-c128-4f6c-a8bc-8952eddd7e96",
   "metadata": {},
   "source": [
    "key components for abc module include:\n",
    "\n",
    "ABC(Abstract Base Class): It's a metaclass that can be used to define abstract base classes .Classes that are meant to be abstract are derived from 'ABC'.\n",
    "'abstractmethod' decorater :It is used to declare abstract within abstract classes .Any concerete subclasses of an abstract class must provide an implementation for all abstract methods declared using this decorator ."
   ]
  },
  {
   "cell_type": "markdown",
   "id": "d6c6bf40-245b-4e2d-a63d-7fb75cc4ba38",
   "metadata": {},
   "source": [
    "Example"
   ]
  },
  {
   "cell_type": "code",
   "execution_count": 18,
   "id": "644864be-e3a5-47f2-9a38-96c29d326fb2",
   "metadata": {},
   "outputs": [
    {
     "name": "stdout",
     "output_type": "stream",
     "text": [
      "Area <bound method Circle.area of <__main__.Circle object at 0x7efce40e15d0>>\n",
      "perimeter: 31.400000000000002\n"
     ]
    }
   ],
   "source": [
    "from abc import ABC , abstractmethod\n",
    "\n",
    "class Shape (ABC):\n",
    "    def area(self):\n",
    "        pass\n",
    "    \n",
    "    def perimeter (self):\n",
    "        pass \n",
    "\n",
    "class Circle(Shape):\n",
    "    def __init__(self , radius ):\n",
    "        self.radius =radius \n",
    "        \n",
    "    def area(self):\n",
    "        return 3.14*self.radius**2\n",
    "    \n",
    "    def perimeter (self):\n",
    "        return 2*3.14 *self.radius\n",
    "    \n",
    "circle =Circle(5)\n",
    "\n",
    "print(\"Area\", circle.area)\n",
    "print(\"perimeter:\",circle.perimeter())"
   ]
  },
  {
   "cell_type": "markdown",
   "id": "a85ffdfc-17fd-4228-a86a-d94539924b5f",
   "metadata": {},
   "source": [
    "Q4. How can we achieve data abstraction?"
   ]
  },
  {
   "cell_type": "markdown",
   "id": "e83cad21-7a8e-4cc2-b60d-6357c49bfcc4",
   "metadata": {},
   "source": [
    "Data abstraction in programming refers to the concept of hiding the complex implementation details of data exposing only the essential features .It involves focusing on what an object represents and what it can do rather than how it achieve those functionalities .Data abstraction is achieved through the uses of classes and objects."
   ]
  },
  {
   "cell_type": "markdown",
   "id": "2678ee1c-5110-468b-92e1-41b8d998b870",
   "metadata": {},
   "source": [
    "To achieve data abstraction in python :\n",
    "\n",
    "use Classes: Define a class to represent the abstract data type .\n",
    "\n",
    "\n",
    "Encapsulation : Encapsulate data within the class using private attributes .\n",
    "\n",
    "\n",
    "define Methods : Create methods to operate on the data and provide a public interface.\n",
    "\n",
    "\n",
    "Hide implementation Details : Only expose essential mehtods , hiding internal complexities."
   ]
  },
  {
   "cell_type": "markdown",
   "id": "6e3320b2-8afd-40bd-bd93-35f5be63ef79",
   "metadata": {},
   "source": [
    "No, you cannot create an instance of an abstract class in Python. Abstract classes are meant to be incomplete and are designed to serve as a blueprint for other classes. They often contain abstract methods (methods without implementation) that must be implemented by concrete (non-abstract) subclasses.\n",
    "\n",
    "In Python, abstract classes are created using the ABC (Abstract Base Class) module. The ABC module provides a metaclass for defining abstract classes and abstract methods. Abstract classes cannot be instantiated directly because they may contain methods that lack implementations.\n",
    "\n",
    "Attempting to create an instance of an abstract class will result in a TypeError. For example:\n",
    "\n"
   ]
  }
 ],
 "metadata": {
  "kernelspec": {
   "display_name": "Python 3 (ipykernel)",
   "language": "python",
   "name": "python3"
  },
  "language_info": {
   "codemirror_mode": {
    "name": "ipython",
    "version": 3
   },
   "file_extension": ".py",
   "mimetype": "text/x-python",
   "name": "python",
   "nbconvert_exporter": "python",
   "pygments_lexer": "ipython3",
   "version": "3.10.8"
  }
 },
 "nbformat": 4,
 "nbformat_minor": 5
}
