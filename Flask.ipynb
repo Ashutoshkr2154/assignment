{
 "cells": [
  {
   "cell_type": "markdown",
   "id": "bba9c729-1e49-4bc8-8ab8-37b0b36a89ad",
   "metadata": {},
   "source": [
    "Q1. What is Flask Farmework ? what are the advantages of flask Famework?\n",
    "\n",
    "\n",
    "Flask is a micro web framework written in Python. It is designed to be lightweight and easy to use, making it a popular choice for developing web applications, APIs, and other web services. Flask provides the tools and libraries necessary to build web applications, but it does not enforce any specific architecture or require the use of particular libraries or tools. This flexibility allows developers to choose the components and design patterns that best fit their needs.\n",
    "\n",
    "- Some advantages of Flask framework include:\n",
    "\n",
    "Lightweight: Flask is minimalistic and does not have any dependencies on external libraries, making it lightweight and easy to set up.\n",
    "\n",
    "Flexibility: Flask gives developers the freedom to choose the tools and libraries they want to use, allowing for greater flexibility in designing and building web applications.\n",
    "\n",
    "Easy to learn: Flask has a simple and intuitive API, making it easy for developers to get started with building web applications, especially for those familiar with Python.\n",
    "\n",
    "Extensible: Flask provides a modular architecture that allows developers to easily extend its functionality by adding plugins and extensions.\n",
    "\n",
    "Built-in development server: Flask comes with a built-in development server, making it easy to test and debug applications during development.\n",
    "\n",
    "Well-documented: Flask has extensive documentation and a large community of users and contributors, making it easy to find help and resources when needed.\n",
    "\n",
    "Scalability: While Flask is lightweight, it is also scalable and can be used to build small, simple applications as well as larger, more complex ones.\n",
    "\n",
    "\n",
    "\n"
   ]
  },
  {
   "cell_type": "markdown",
   "id": "9b754327-1651-4994-9d0a-6c15362b1862",
   "metadata": {},
   "source": [
    "Q2 .Create a simple Flask application to display ‘Hello World!!’. Attach the screenshot of the output in\n",
    "Jupyter Notebook.\n"
   ]
  },
  {
   "cell_type": "code",
   "execution_count": 2,
   "id": "a9f07987-148b-4a6e-a2b0-64d2783a4e9a",
   "metadata": {
    "collapsed": true,
    "jupyter": {
     "outputs_hidden": true
    },
    "tags": []
   },
   "outputs": [
    {
     "name": "stdout",
     "output_type": "stream",
     "text": [
      "Collecting Flask\n",
      "  Downloading flask-3.0.2-py3-none-any.whl (101 kB)\n",
      "\u001b[2K     \u001b[90m━━━━━━━━━━━━━━━━━━━━━━━━━━━━━━━━━━━━━━\u001b[0m \u001b[32m101.3/101.3 kB\u001b[0m \u001b[31m12.3 MB/s\u001b[0m eta \u001b[36m0:00:00\u001b[0m\n",
      "\u001b[?25hRequirement already satisfied: click>=8.1.3 in /opt/conda/lib/python3.10/site-packages (from Flask) (8.1.3)\n",
      "Collecting blinker>=1.6.2\n",
      "  Downloading blinker-1.7.0-py3-none-any.whl (13 kB)\n",
      "Collecting Werkzeug>=3.0.0\n",
      "  Downloading werkzeug-3.0.1-py3-none-any.whl (226 kB)\n",
      "\u001b[2K     \u001b[90m━━━━━━━━━━━━━━━━━━━━━━━━━━━━━━━━━━━━━━\u001b[0m \u001b[32m226.7/226.7 kB\u001b[0m \u001b[31m31.6 MB/s\u001b[0m eta \u001b[36m0:00:00\u001b[0m\n",
      "\u001b[?25hRequirement already satisfied: Jinja2>=3.1.2 in /opt/conda/lib/python3.10/site-packages (from Flask) (3.1.2)\n",
      "Collecting itsdangerous>=2.1.2\n",
      "  Downloading itsdangerous-2.1.2-py3-none-any.whl (15 kB)\n",
      "Requirement already satisfied: MarkupSafe>=2.0 in /opt/conda/lib/python3.10/site-packages (from Jinja2>=3.1.2->Flask) (2.1.1)\n",
      "Installing collected packages: Werkzeug, itsdangerous, blinker, Flask\n",
      "  Attempting uninstall: blinker\n",
      "    Found existing installation: blinker 1.5\n",
      "    Uninstalling blinker-1.5:\n",
      "      Successfully uninstalled blinker-1.5\n",
      "Successfully installed Flask-3.0.2 Werkzeug-3.0.1 blinker-1.7.0 itsdangerous-2.1.2\n",
      "Note: you may need to restart the kernel to use updated packages.\n"
     ]
    }
   ],
   "source": [
    "pip install Flask"
   ]
  },
  {
   "cell_type": "code",
   "execution_count": null,
   "id": "1ac8f6f8-5faf-4269-bffe-1eb217d8dd61",
   "metadata": {},
   "outputs": [
    {
     "name": "stdout",
     "output_type": "stream",
     "text": [
      " * Serving Flask app '__main__'\n",
      " * Debug mode: off\n"
     ]
    },
    {
     "name": "stderr",
     "output_type": "stream",
     "text": [
      "WARNING: This is a development server. Do not use it in a production deployment. Use a production WSGI server instead.\n",
      " * Running on http://127.0.0.1:5000\n",
      "Press CTRL+C to quit\n"
     ]
    }
   ],
   "source": [
    "from flask import Flask\n",
    "\n",
    "app = Flask(__name__)\n",
    "\n",
    "@app.route('/')\n",
    "def hello_world():\n",
    "    return 'Hello_world'\n",
    "\n",
    "if __name__ == '__main__':\n",
    "    app.run()"
   ]
  },
  {
   "cell_type": "markdown",
   "id": "da748385-25c3-48d2-a860-2785f695236e",
   "metadata": {},
   "source": [
    "Q3. What is app routing in Flask ? Why we use app routes ?\n",
    "\n",
    "In Flask , an app route refers to the url pattern associated with a specific view function . App routing in flask is the process of mapping Urls (uniform resource functions) , within a Falsk applicaton .\n",
    "\n",
    "When a user makes a request ta a specific Url in a flask application , Flask's routing system determines which view function should handle that request based on the defined url patterns (app routes ) in the application.\n",
    "\n",
    "We use app routes in Flask for several reasons :\n",
    "\n",
    "URL Dispatching: App routes allow us to define the URL patterns that should be handled by different parts of our application. This enables Flask to dispatch incoming requests to the appropriate view function based on the URL.\n",
    "\n",
    "Modularization: By defining app routes, we can modularize our Flask application into different sections or components, with each section handling specific sets of URLs. This helps in organizing code and maintaining a clean project structure.\n",
    "\n",
    "RESTful APIs: For building RESTful APIs, app routes are crucial as they allow us to define endpoints for various resources and specify the HTTP methods (GET, POST, PUT, DELETE, etc.) that should be supported by each endpoint.\n",
    "\n",
    "Dynamic URL Generation: Flask's routing system supports dynamic URL generation, allowing us to define app routes with placeholders for variable parts of the URL. This is useful for creating dynamic web pages or handling requests with variable parameters.\n",
    "\n",
    "URL Building: Flask provides functions for generating URLs based on the app routes defined in the application. This makes it easy to generate links dynamically within templates or view functions, ensuring consistency and avoiding hardcoding of URLs.\n",
    "\n",
    "Overall, app routes are essential in Flask for defining the structure and behavior of web applications, facilitating URL routing, and enabling the handling of incoming requests efficiently.\n",
    "\n",
    "\n",
    "\n",
    "\n",
    "\n"
   ]
  },
  {
   "cell_type": "markdown",
   "id": "3ab6157a-fc48-4858-8697-069148ec35cf",
   "metadata": {},
   "source": [
    "Q 4.Create a “/welcome” route to display the welcome message “Welcome to ABC Corporation” and a “/”\n",
    "route to show the following details:\n",
    "Company Name: ABC Corporation\n",
    "Location: India\n",
    "Contact Detail: 999-999-9999"
   ]
  },
  {
   "cell_type": "code",
   "execution_count": 2,
   "id": "3ac75194-d4b1-4105-ab39-998da8fc170c",
   "metadata": {
    "collapsed": true,
    "jupyter": {
     "outputs_hidden": true
    },
    "tags": []
   },
   "outputs": [
    {
     "name": "stdout",
     "output_type": "stream",
     "text": [
      "Collecting flask\n",
      "  Downloading flask-3.0.2-py3-none-any.whl (101 kB)\n",
      "\u001b[2K     \u001b[90m━━━━━━━━━━━━━━━━━━━━━━━━━━━━━━━━━━━━━━━\u001b[0m \u001b[32m101.3/101.3 kB\u001b[0m \u001b[31m3.7 MB/s\u001b[0m eta \u001b[36m0:00:00\u001b[0m\n",
      "\u001b[?25hCollecting itsdangerous>=2.1.2\n",
      "  Downloading itsdangerous-2.1.2-py3-none-any.whl (15 kB)\n",
      "Collecting Werkzeug>=3.0.0\n",
      "  Downloading werkzeug-3.0.1-py3-none-any.whl (226 kB)\n",
      "\u001b[2K     \u001b[90m━━━━━━━━━━━━━━━━━━━━━━━━━━━━━━━━━━━━━━\u001b[0m \u001b[32m226.7/226.7 kB\u001b[0m \u001b[31m23.9 MB/s\u001b[0m eta \u001b[36m0:00:00\u001b[0m\n",
      "\u001b[?25hRequirement already satisfied: click>=8.1.3 in /opt/conda/lib/python3.10/site-packages (from flask) (8.1.3)\n",
      "Collecting blinker>=1.6.2\n",
      "  Downloading blinker-1.7.0-py3-none-any.whl (13 kB)\n",
      "Requirement already satisfied: Jinja2>=3.1.2 in /opt/conda/lib/python3.10/site-packages (from flask) (3.1.2)\n",
      "Requirement already satisfied: MarkupSafe>=2.0 in /opt/conda/lib/python3.10/site-packages (from Jinja2>=3.1.2->flask) (2.1.1)\n",
      "Installing collected packages: Werkzeug, itsdangerous, blinker, flask\n",
      "  Attempting uninstall: blinker\n",
      "    Found existing installation: blinker 1.5\n",
      "    Uninstalling blinker-1.5:\n",
      "      Successfully uninstalled blinker-1.5\n",
      "Successfully installed Werkzeug-3.0.1 blinker-1.7.0 flask-3.0.2 itsdangerous-2.1.2\n",
      "Note: you may need to restart the kernel to use updated packages.\n"
     ]
    }
   ],
   "source": [
    "pip install flask"
   ]
  },
  {
   "cell_type": "code",
   "execution_count": 3,
   "id": "0403ec8b-3b59-44eb-a480-7625bdb747cf",
   "metadata": {
    "tags": []
   },
   "outputs": [
    {
     "name": "stdout",
     "output_type": "stream",
     "text": [
      " * Serving Flask app '__main__'\n",
      " * Debug mode: on\n"
     ]
    },
    {
     "name": "stderr",
     "output_type": "stream",
     "text": [
      "WARNING: This is a development server. Do not use it in a production deployment. Use a production WSGI server instead.\n",
      " * Running on http://127.0.0.1:5000\n",
      "Press CTRL+C to quit\n",
      " * Restarting with stat\n",
      "Traceback (most recent call last):\n",
      "  File \"/opt/conda/lib/python3.10/runpy.py\", line 196, in _run_module_as_main\n",
      "    return _run_code(code, main_globals, None,\n",
      "  File \"/opt/conda/lib/python3.10/runpy.py\", line 86, in _run_code\n",
      "    exec(code, run_globals)\n",
      "  File \"/opt/conda/lib/python3.10/site-packages/ipykernel_launcher.py\", line 17, in <module>\n",
      "    app.launch_new_instance()\n",
      "  File \"/opt/conda/lib/python3.10/site-packages/traitlets/config/application.py\", line 991, in launch_instance\n",
      "    app.initialize(argv)\n",
      "  File \"/opt/conda/lib/python3.10/site-packages/traitlets/config/application.py\", line 113, in inner\n",
      "    return method(app, *args, **kwargs)\n",
      "  File \"/opt/conda/lib/python3.10/site-packages/ipykernel/kernelapp.py\", line 665, in initialize\n",
      "    self.init_sockets()\n",
      "  File \"/opt/conda/lib/python3.10/site-packages/ipykernel/kernelapp.py\", line 309, in init_sockets\n",
      "    self.shell_port = self._bind_socket(self.shell_socket, self.shell_port)\n",
      "  File \"/opt/conda/lib/python3.10/site-packages/ipykernel/kernelapp.py\", line 246, in _bind_socket\n",
      "    return self._try_bind_socket(s, port)\n",
      "  File \"/opt/conda/lib/python3.10/site-packages/ipykernel/kernelapp.py\", line 222, in _try_bind_socket\n",
      "    s.bind(\"tcp://%s:%i\" % (self.ip, port))\n",
      "  File \"/opt/conda/lib/python3.10/site-packages/zmq/sugar/socket.py\", line 232, in bind\n",
      "    super().bind(addr)\n",
      "  File \"zmq/backend/cython/socket.pyx\", line 568, in zmq.backend.cython.socket.Socket.bind\n",
      "  File \"zmq/backend/cython/checkrc.pxd\", line 28, in zmq.backend.cython.checkrc._check_rc\n",
      "zmq.error.ZMQError: Address already in use\n"
     ]
    },
    {
     "ename": "SystemExit",
     "evalue": "1",
     "output_type": "error",
     "traceback": [
      "An exception has occurred, use %tb to see the full traceback.\n",
      "\u001b[0;31mSystemExit\u001b[0m\u001b[0;31m:\u001b[0m 1\n"
     ]
    },
    {
     "name": "stderr",
     "output_type": "stream",
     "text": [
      "/opt/conda/lib/python3.10/site-packages/IPython/core/interactiveshell.py:3441: UserWarning: To exit: use 'exit', 'quit', or Ctrl-D.\n",
      "  warn(\"To exit: use 'exit', 'quit', or Ctrl-D.\", stacklevel=1)\n"
     ]
    }
   ],
   "source": [
    "from flask import Flask \n",
    "\n",
    "app =Flask(__name__)\n",
    "\n",
    "@app.route('/welcome')\n",
    "def welcome():\n",
    "    return \"welcome to ABC Corporation \"\n",
    "\n",
    "\n",
    "@app.route('/')\n",
    "def company_details():\n",
    "    details =\"\"\"\n",
    "    Company Name : ABC Corporation \n",
    "    Location : India \n",
    "    Contact Detail : 999-999-9999\n",
    "    \"\"\"\n",
    "    return details\n",
    "\n",
    "if __name__ == '__main__':\n",
    "    app.run(debug=True)"
   ]
  },
  {
   "cell_type": "code",
   "execution_count": null,
   "id": "f076c1ee-32e8-499b-87e2-b84036b5ce89",
   "metadata": {},
   "outputs": [],
   "source": []
  }
 ],
 "metadata": {
  "kernelspec": {
   "display_name": "Python 3 (ipykernel)",
   "language": "python",
   "name": "python3"
  },
  "language_info": {
   "codemirror_mode": {
    "name": "ipython",
    "version": 3
   },
   "file_extension": ".py",
   "mimetype": "text/x-python",
   "name": "python",
   "nbconvert_exporter": "python",
   "pygments_lexer": "ipython3",
   "version": "3.10.8"
  }
 },
 "nbformat": 4,
 "nbformat_minor": 5
}
